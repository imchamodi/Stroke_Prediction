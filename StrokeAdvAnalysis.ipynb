{
 "cells": [
  {
   "cell_type": "code",
   "execution_count": 1,
   "id": "7cbcd6ca",
   "metadata": {},
   "outputs": [],
   "source": [
    "# Data manipulation libraries\n",
    "import pandas as pd \n",
    "import numpy as np \n",
    "\n",
    "# Visualization libraries\n",
    "import matplotlib.pyplot as plt \n",
    "import seaborn as sns\n",
    "sns.set_style('darkgrid')\n",
    "import plotly.express as ex\n",
    "import plotly.graph_objs as go\n",
    "import plotly.offline as pyo\n",
    "from plotly.subplots import make_subplots\n",
    "import plotly.figure_factory as ff"
   ]
  },
  {
   "cell_type": "code",
   "execution_count": 2,
   "id": "0f8f7109",
   "metadata": {},
   "outputs": [
    {
     "data": {
      "text/html": [
       "<div>\n",
       "<style scoped>\n",
       "    .dataframe tbody tr th:only-of-type {\n",
       "        vertical-align: middle;\n",
       "    }\n",
       "\n",
       "    .dataframe tbody tr th {\n",
       "        vertical-align: top;\n",
       "    }\n",
       "\n",
       "    .dataframe thead th {\n",
       "        text-align: right;\n",
       "    }\n",
       "</style>\n",
       "<table border=\"1\" class=\"dataframe\">\n",
       "  <thead>\n",
       "    <tr style=\"text-align: right;\">\n",
       "      <th></th>\n",
       "      <th>id</th>\n",
       "      <th>gender</th>\n",
       "      <th>age</th>\n",
       "      <th>hypertension</th>\n",
       "      <th>heart_disease</th>\n",
       "      <th>ever_married</th>\n",
       "      <th>work_type</th>\n",
       "      <th>Residence_type</th>\n",
       "      <th>avg_glucose_level</th>\n",
       "      <th>bmi</th>\n",
       "      <th>smoking_status</th>\n",
       "      <th>stroke</th>\n",
       "    </tr>\n",
       "  </thead>\n",
       "  <tbody>\n",
       "    <tr>\n",
       "      <th>0</th>\n",
       "      <td>9046</td>\n",
       "      <td>Male</td>\n",
       "      <td>67.0</td>\n",
       "      <td>0</td>\n",
       "      <td>1</td>\n",
       "      <td>Yes</td>\n",
       "      <td>Private</td>\n",
       "      <td>Urban</td>\n",
       "      <td>228.69</td>\n",
       "      <td>36.6</td>\n",
       "      <td>formerly smoked</td>\n",
       "      <td>1</td>\n",
       "    </tr>\n",
       "    <tr>\n",
       "      <th>1</th>\n",
       "      <td>51676</td>\n",
       "      <td>Female</td>\n",
       "      <td>61.0</td>\n",
       "      <td>0</td>\n",
       "      <td>0</td>\n",
       "      <td>Yes</td>\n",
       "      <td>Self-employed</td>\n",
       "      <td>Rural</td>\n",
       "      <td>202.21</td>\n",
       "      <td>NaN</td>\n",
       "      <td>never smoked</td>\n",
       "      <td>1</td>\n",
       "    </tr>\n",
       "    <tr>\n",
       "      <th>2</th>\n",
       "      <td>31112</td>\n",
       "      <td>Male</td>\n",
       "      <td>80.0</td>\n",
       "      <td>0</td>\n",
       "      <td>1</td>\n",
       "      <td>Yes</td>\n",
       "      <td>Private</td>\n",
       "      <td>Rural</td>\n",
       "      <td>105.92</td>\n",
       "      <td>32.5</td>\n",
       "      <td>never smoked</td>\n",
       "      <td>1</td>\n",
       "    </tr>\n",
       "    <tr>\n",
       "      <th>3</th>\n",
       "      <td>60182</td>\n",
       "      <td>Female</td>\n",
       "      <td>49.0</td>\n",
       "      <td>0</td>\n",
       "      <td>0</td>\n",
       "      <td>Yes</td>\n",
       "      <td>Private</td>\n",
       "      <td>Urban</td>\n",
       "      <td>171.23</td>\n",
       "      <td>34.4</td>\n",
       "      <td>smokes</td>\n",
       "      <td>1</td>\n",
       "    </tr>\n",
       "    <tr>\n",
       "      <th>4</th>\n",
       "      <td>1665</td>\n",
       "      <td>Female</td>\n",
       "      <td>79.0</td>\n",
       "      <td>1</td>\n",
       "      <td>0</td>\n",
       "      <td>Yes</td>\n",
       "      <td>Self-employed</td>\n",
       "      <td>Rural</td>\n",
       "      <td>174.12</td>\n",
       "      <td>24.0</td>\n",
       "      <td>never smoked</td>\n",
       "      <td>1</td>\n",
       "    </tr>\n",
       "  </tbody>\n",
       "</table>\n",
       "</div>"
      ],
      "text/plain": [
       "      id  gender   age  hypertension  heart_disease ever_married  \\\n",
       "0   9046    Male  67.0             0              1          Yes   \n",
       "1  51676  Female  61.0             0              0          Yes   \n",
       "2  31112    Male  80.0             0              1          Yes   \n",
       "3  60182  Female  49.0             0              0          Yes   \n",
       "4   1665  Female  79.0             1              0          Yes   \n",
       "\n",
       "       work_type Residence_type  avg_glucose_level   bmi   smoking_status  \\\n",
       "0        Private          Urban             228.69  36.6  formerly smoked   \n",
       "1  Self-employed          Rural             202.21   NaN     never smoked   \n",
       "2        Private          Rural             105.92  32.5     never smoked   \n",
       "3        Private          Urban             171.23  34.4           smokes   \n",
       "4  Self-employed          Rural             174.12  24.0     never smoked   \n",
       "\n",
       "   stroke  \n",
       "0       1  \n",
       "1       1  \n",
       "2       1  \n",
       "3       1  \n",
       "4       1  "
      ]
     },
     "execution_count": 2,
     "metadata": {},
     "output_type": "execute_result"
    }
   ],
   "source": [
    "data = pd.read_csv('D:/3rd Year - 2nd Semester/ST 3082 - Statistical Learning I/Data Analysis Final Project/Stroke Prediction/healthcare-dataset-stroke-data.csv')\n",
    "data.head(5)"
   ]
  },
  {
   "cell_type": "code",
   "execution_count": 3,
   "id": "2b3affe1",
   "metadata": {},
   "outputs": [],
   "source": [
    "data.drop(['id'],axis=1,inplace=True)\n",
    "data['work_type'] = data['work_type'].replace('Self-employed', 'Self_employed')\n",
    "data['smoking_status'] = data['smoking_status'].replace('formerly smoked', 'formerly_smoked')\n",
    "data['smoking_status'] = data['smoking_status'].replace('never smoked', 'never_smoked')"
   ]
  },
  {
   "cell_type": "code",
   "execution_count": 4,
   "id": "341dc09e",
   "metadata": {},
   "outputs": [
    {
     "data": {
      "text/plain": [
       "Female    2994\n",
       "Male      2115\n",
       "Name: gender, dtype: int64"
      ]
     },
     "execution_count": 4,
     "metadata": {},
     "output_type": "execute_result"
    }
   ],
   "source": [
    "#Removing the other from gender\n",
    "data.drop(data[data['gender'] == 'Other'].index, inplace = True)\n",
    "data[\"gender\"].value_counts()"
   ]
  },
  {
   "cell_type": "code",
   "execution_count": 5,
   "id": "9807c390",
   "metadata": {},
   "outputs": [],
   "source": [
    "from sklearn.tree import DecisionTreeRegressor\n",
    "from sklearn.pipeline import Pipeline\n",
    "from sklearn.preprocessing import StandardScaler,LabelEncoder\n",
    "\n",
    "DT_bmi_pipe = Pipeline( steps=[ \n",
    "                               ('scale',StandardScaler()),\n",
    "                               ('lr',DecisionTreeRegressor(random_state=42))\n",
    "                              ])\n",
    "X = data[['age','gender','ever_married','Residence_type','bmi']].copy()\n",
    "X.gender = X.gender.replace({'Male':0,'Female':1}).astype(np.uint8)\n",
    "X.Residence_type = X.Residence_type.replace({'Urban':0,'Rural':1}).astype(np.uint8)\n",
    "X.ever_married = X.ever_married.replace({'No':0,'Yes':1}).astype(np.uint8)\n",
    "Missing = X[X.bmi.isna()]\n",
    "X = X[~X.bmi.isna()]\n",
    "Y = X.pop('bmi')\n",
    "DT_bmi_pipe.fit(X,Y)\n",
    "predicted_bmi = pd.Series(DT_bmi_pipe.predict(Missing[['age','gender','ever_married','Residence_type']]),index=Missing.index)\n",
    "data.loc[Missing.index,'bmi'] = predicted_bmi\n"
   ]
  },
  {
   "cell_type": "code",
   "execution_count": 6,
   "id": "3c73231c",
   "metadata": {},
   "outputs": [
    {
     "data": {
      "text/html": [
       "<div>\n",
       "<style scoped>\n",
       "    .dataframe tbody tr th:only-of-type {\n",
       "        vertical-align: middle;\n",
       "    }\n",
       "\n",
       "    .dataframe tbody tr th {\n",
       "        vertical-align: top;\n",
       "    }\n",
       "\n",
       "    .dataframe thead th {\n",
       "        text-align: right;\n",
       "    }\n",
       "</style>\n",
       "<table border=\"1\" class=\"dataframe\">\n",
       "  <thead>\n",
       "    <tr style=\"text-align: right;\">\n",
       "      <th></th>\n",
       "      <th>age</th>\n",
       "      <th>hypertension</th>\n",
       "      <th>heart_disease</th>\n",
       "      <th>avg_glucose_level</th>\n",
       "      <th>bmi</th>\n",
       "      <th>stroke</th>\n",
       "      <th>gender_Male</th>\n",
       "      <th>ever_married_Yes</th>\n",
       "      <th>work_type_Never_worked</th>\n",
       "      <th>work_type_Private</th>\n",
       "      <th>work_type_Self_employed</th>\n",
       "      <th>work_type_children</th>\n",
       "      <th>Residence_type_Urban</th>\n",
       "      <th>smoking_status_formerly_smoked</th>\n",
       "      <th>smoking_status_never_smoked</th>\n",
       "      <th>smoking_status_smokes</th>\n",
       "    </tr>\n",
       "  </thead>\n",
       "  <tbody>\n",
       "    <tr>\n",
       "      <th>0</th>\n",
       "      <td>67.0</td>\n",
       "      <td>0</td>\n",
       "      <td>1</td>\n",
       "      <td>228.69</td>\n",
       "      <td>36.600000</td>\n",
       "      <td>1</td>\n",
       "      <td>1</td>\n",
       "      <td>1</td>\n",
       "      <td>0</td>\n",
       "      <td>1</td>\n",
       "      <td>0</td>\n",
       "      <td>0</td>\n",
       "      <td>1</td>\n",
       "      <td>1</td>\n",
       "      <td>0</td>\n",
       "      <td>0</td>\n",
       "    </tr>\n",
       "    <tr>\n",
       "      <th>1</th>\n",
       "      <td>61.0</td>\n",
       "      <td>0</td>\n",
       "      <td>0</td>\n",
       "      <td>202.21</td>\n",
       "      <td>32.582353</td>\n",
       "      <td>1</td>\n",
       "      <td>0</td>\n",
       "      <td>1</td>\n",
       "      <td>0</td>\n",
       "      <td>0</td>\n",
       "      <td>1</td>\n",
       "      <td>0</td>\n",
       "      <td>0</td>\n",
       "      <td>0</td>\n",
       "      <td>1</td>\n",
       "      <td>0</td>\n",
       "    </tr>\n",
       "    <tr>\n",
       "      <th>2</th>\n",
       "      <td>80.0</td>\n",
       "      <td>0</td>\n",
       "      <td>1</td>\n",
       "      <td>105.92</td>\n",
       "      <td>32.500000</td>\n",
       "      <td>1</td>\n",
       "      <td>1</td>\n",
       "      <td>1</td>\n",
       "      <td>0</td>\n",
       "      <td>1</td>\n",
       "      <td>0</td>\n",
       "      <td>0</td>\n",
       "      <td>0</td>\n",
       "      <td>0</td>\n",
       "      <td>1</td>\n",
       "      <td>0</td>\n",
       "    </tr>\n",
       "    <tr>\n",
       "      <th>3</th>\n",
       "      <td>49.0</td>\n",
       "      <td>0</td>\n",
       "      <td>0</td>\n",
       "      <td>171.23</td>\n",
       "      <td>34.400000</td>\n",
       "      <td>1</td>\n",
       "      <td>0</td>\n",
       "      <td>1</td>\n",
       "      <td>0</td>\n",
       "      <td>1</td>\n",
       "      <td>0</td>\n",
       "      <td>0</td>\n",
       "      <td>1</td>\n",
       "      <td>0</td>\n",
       "      <td>0</td>\n",
       "      <td>1</td>\n",
       "    </tr>\n",
       "    <tr>\n",
       "      <th>4</th>\n",
       "      <td>79.0</td>\n",
       "      <td>1</td>\n",
       "      <td>0</td>\n",
       "      <td>174.12</td>\n",
       "      <td>24.000000</td>\n",
       "      <td>1</td>\n",
       "      <td>0</td>\n",
       "      <td>1</td>\n",
       "      <td>0</td>\n",
       "      <td>0</td>\n",
       "      <td>1</td>\n",
       "      <td>0</td>\n",
       "      <td>0</td>\n",
       "      <td>0</td>\n",
       "      <td>1</td>\n",
       "      <td>0</td>\n",
       "    </tr>\n",
       "  </tbody>\n",
       "</table>\n",
       "</div>"
      ],
      "text/plain": [
       "    age  hypertension  heart_disease  avg_glucose_level        bmi  stroke  \\\n",
       "0  67.0             0              1             228.69  36.600000       1   \n",
       "1  61.0             0              0             202.21  32.582353       1   \n",
       "2  80.0             0              1             105.92  32.500000       1   \n",
       "3  49.0             0              0             171.23  34.400000       1   \n",
       "4  79.0             1              0             174.12  24.000000       1   \n",
       "\n",
       "   gender_Male  ever_married_Yes  work_type_Never_worked  work_type_Private  \\\n",
       "0            1                 1                       0                  1   \n",
       "1            0                 1                       0                  0   \n",
       "2            1                 1                       0                  1   \n",
       "3            0                 1                       0                  1   \n",
       "4            0                 1                       0                  0   \n",
       "\n",
       "   work_type_Self_employed  work_type_children  Residence_type_Urban  \\\n",
       "0                        0                   0                     1   \n",
       "1                        1                   0                     0   \n",
       "2                        0                   0                     0   \n",
       "3                        0                   0                     1   \n",
       "4                        1                   0                     0   \n",
       "\n",
       "   smoking_status_formerly_smoked  smoking_status_never_smoked  \\\n",
       "0                               1                            0   \n",
       "1                               0                            1   \n",
       "2                               0                            1   \n",
       "3                               0                            0   \n",
       "4                               0                            1   \n",
       "\n",
       "   smoking_status_smokes  \n",
       "0                      0  \n",
       "1                      0  \n",
       "2                      0  \n",
       "3                      1  \n",
       "4                      0  "
      ]
     },
     "execution_count": 6,
     "metadata": {},
     "output_type": "execute_result"
    }
   ],
   "source": [
    "data = pd.get_dummies(data, columns=['gender', 'ever_married', 'work_type', 'Residence_type', 'smoking_status'], drop_first=True)\n",
    "data.head()"
   ]
  },
  {
   "cell_type": "code",
   "execution_count": 7,
   "id": "ca30a175",
   "metadata": {},
   "outputs": [
    {
     "data": {
      "text/plain": [
       "age                               float64\n",
       "hypertension                        int64\n",
       "heart_disease                       int64\n",
       "avg_glucose_level                 float64\n",
       "bmi                               float64\n",
       "stroke                              int64\n",
       "gender_Male                         uint8\n",
       "ever_married_Yes                    uint8\n",
       "work_type_Never_worked              uint8\n",
       "work_type_Private                   uint8\n",
       "work_type_Self_employed             uint8\n",
       "work_type_children                  uint8\n",
       "Residence_type_Urban                uint8\n",
       "smoking_status_formerly_smoked      uint8\n",
       "smoking_status_never_smoked         uint8\n",
       "smoking_status_smokes               uint8\n",
       "dtype: object"
      ]
     },
     "execution_count": 7,
     "metadata": {},
     "output_type": "execute_result"
    }
   ],
   "source": [
    "data.dtypes"
   ]
  },
  {
   "cell_type": "code",
   "execution_count": 8,
   "id": "b06d47da",
   "metadata": {},
   "outputs": [
    {
     "data": {
      "image/png": "[encoded data removed]",
      "text/plain": [
       "<Figure size 640x480 with 1 Axes>"
      ]
     },
     "metadata": {},
     "output_type": "display_data"
    }
   ],
   "source": [
    "# Using SMOTE\n",
    "from imblearn.over_sampling import SMOTE\n",
    "\n",
    "sampler = SMOTE(random_state = 42)\n",
    "X = data.drop(['stroke'],axis=1)\n",
    "y = data[['stroke']]\n",
    "X,y= sampler.fit_resample(X,y['stroke'].values.ravel())\n",
    "y = pd.DataFrame({'stroke':y})\n",
    "sns.countplot(data = y, x = 'stroke', y= None)\n",
    "plt.show()"
   ]
  },
  {
   "cell_type": "code",
   "execution_count": 9,
   "id": "531e4cd4",
   "metadata": {},
   "outputs": [
    {
     "data": {
      "text/html": [
       "<div>\n",
       "<style scoped>\n",
       "    .dataframe tbody tr th:only-of-type {\n",
       "        vertical-align: middle;\n",
       "    }\n",
       "\n",
       "    .dataframe tbody tr th {\n",
       "        vertical-align: top;\n",
       "    }\n",
       "\n",
       "    .dataframe thead th {\n",
       "        text-align: right;\n",
       "    }\n",
       "</style>\n",
       "<table border=\"1\" class=\"dataframe\">\n",
       "  <thead>\n",
       "    <tr style=\"text-align: right;\">\n",
       "      <th></th>\n",
       "      <th>age</th>\n",
       "      <th>hypertension</th>\n",
       "      <th>heart_disease</th>\n",
       "      <th>avg_glucose_level</th>\n",
       "      <th>bmi</th>\n",
       "      <th>gender_Male</th>\n",
       "      <th>ever_married_Yes</th>\n",
       "      <th>work_type_Never_worked</th>\n",
       "      <th>work_type_Private</th>\n",
       "      <th>work_type_Self_employed</th>\n",
       "      <th>work_type_children</th>\n",
       "      <th>Residence_type_Urban</th>\n",
       "      <th>smoking_status_formerly_smoked</th>\n",
       "      <th>smoking_status_never_smoked</th>\n",
       "      <th>smoking_status_smokes</th>\n",
       "      <th>stroke</th>\n",
       "    </tr>\n",
       "  </thead>\n",
       "  <tbody>\n",
       "    <tr>\n",
       "      <th>0</th>\n",
       "      <td>67.0</td>\n",
       "      <td>0</td>\n",
       "      <td>1</td>\n",
       "      <td>228.69</td>\n",
       "      <td>36.600000</td>\n",
       "      <td>1</td>\n",
       "      <td>1</td>\n",
       "      <td>0</td>\n",
       "      <td>1</td>\n",
       "      <td>0</td>\n",
       "      <td>0</td>\n",
       "      <td>1</td>\n",
       "      <td>1</td>\n",
       "      <td>0</td>\n",
       "      <td>0</td>\n",
       "      <td>1</td>\n",
       "    </tr>\n",
       "    <tr>\n",
       "      <th>1</th>\n",
       "      <td>61.0</td>\n",
       "      <td>0</td>\n",
       "      <td>0</td>\n",
       "      <td>202.21</td>\n",
       "      <td>32.582353</td>\n",
       "      <td>0</td>\n",
       "      <td>1</td>\n",
       "      <td>0</td>\n",
       "      <td>0</td>\n",
       "      <td>1</td>\n",
       "      <td>0</td>\n",
       "      <td>0</td>\n",
       "      <td>0</td>\n",
       "      <td>1</td>\n",
       "      <td>0</td>\n",
       "      <td>1</td>\n",
       "    </tr>\n",
       "    <tr>\n",
       "      <th>2</th>\n",
       "      <td>80.0</td>\n",
       "      <td>0</td>\n",
       "      <td>1</td>\n",
       "      <td>105.92</td>\n",
       "      <td>32.500000</td>\n",
       "      <td>1</td>\n",
       "      <td>1</td>\n",
       "      <td>0</td>\n",
       "      <td>1</td>\n",
       "      <td>0</td>\n",
       "      <td>0</td>\n",
       "      <td>0</td>\n",
       "      <td>0</td>\n",
       "      <td>1</td>\n",
       "      <td>0</td>\n",
       "      <td>1</td>\n",
       "    </tr>\n",
       "    <tr>\n",
       "      <th>3</th>\n",
       "      <td>49.0</td>\n",
       "      <td>0</td>\n",
       "      <td>0</td>\n",
       "      <td>171.23</td>\n",
       "      <td>34.400000</td>\n",
       "      <td>0</td>\n",
       "      <td>1</td>\n",
       "      <td>0</td>\n",
       "      <td>1</td>\n",
       "      <td>0</td>\n",
       "      <td>0</td>\n",
       "      <td>1</td>\n",
       "      <td>0</td>\n",
       "      <td>0</td>\n",
       "      <td>1</td>\n",
       "      <td>1</td>\n",
       "    </tr>\n",
       "    <tr>\n",
       "      <th>4</th>\n",
       "      <td>79.0</td>\n",
       "      <td>1</td>\n",
       "      <td>0</td>\n",
       "      <td>174.12</td>\n",
       "      <td>24.000000</td>\n",
       "      <td>0</td>\n",
       "      <td>1</td>\n",
       "      <td>0</td>\n",
       "      <td>0</td>\n",
       "      <td>1</td>\n",
       "      <td>0</td>\n",
       "      <td>0</td>\n",
       "      <td>0</td>\n",
       "      <td>1</td>\n",
       "      <td>0</td>\n",
       "      <td>1</td>\n",
       "    </tr>\n",
       "  </tbody>\n",
       "</table>\n",
       "</div>"
      ],
      "text/plain": [
       "    age  hypertension  heart_disease  avg_glucose_level        bmi  \\\n",
       "0  67.0             0              1             228.69  36.600000   \n",
       "1  61.0             0              0             202.21  32.582353   \n",
       "2  80.0             0              1             105.92  32.500000   \n",
       "3  49.0             0              0             171.23  34.400000   \n",
       "4  79.0             1              0             174.12  24.000000   \n",
       "\n",
       "   gender_Male  ever_married_Yes  work_type_Never_worked  work_type_Private  \\\n",
       "0            1                 1                       0                  1   \n",
       "1            0                 1                       0                  0   \n",
       "2            1                 1                       0                  1   \n",
       "3            0                 1                       0                  1   \n",
       "4            0                 1                       0                  0   \n",
       "\n",
       "   work_type_Self_employed  work_type_children  Residence_type_Urban  \\\n",
       "0                        0                   0                     1   \n",
       "1                        1                   0                     0   \n",
       "2                        0                   0                     0   \n",
       "3                        0                   0                     1   \n",
       "4                        1                   0                     0   \n",
       "\n",
       "   smoking_status_formerly_smoked  smoking_status_never_smoked  \\\n",
       "0                               1                            0   \n",
       "1                               0                            1   \n",
       "2                               0                            1   \n",
       "3                               0                            0   \n",
       "4                               0                            1   \n",
       "\n",
       "   smoking_status_smokes  stroke  \n",
       "0                      0       1  \n",
       "1                      0       1  \n",
       "2                      0       1  \n",
       "3                      1       1  \n",
       "4                      0       1  "
      ]
     },
     "execution_count": 9,
     "metadata": {},
     "output_type": "execute_result"
    }
   ],
   "source": [
    "# Joining back dataset\n",
    "data = pd.concat([X,y],axis = 1)\n",
    "data.head()"
   ]
  },
  {
   "cell_type": "code",
   "execution_count": 10,
   "id": "720096a3",
   "metadata": {},
   "outputs": [
    {
     "data": {
      "text/html": [
       "<div>\n",
       "<style scoped>\n",
       "    .dataframe tbody tr th:only-of-type {\n",
       "        vertical-align: middle;\n",
       "    }\n",
       "\n",
       "    .dataframe tbody tr th {\n",
       "        vertical-align: top;\n",
       "    }\n",
       "\n",
       "    .dataframe thead th {\n",
       "        text-align: right;\n",
       "    }\n",
       "</style>\n",
       "<table border=\"1\" class=\"dataframe\">\n",
       "  <thead>\n",
       "    <tr style=\"text-align: right;\">\n",
       "      <th></th>\n",
       "      <th>age</th>\n",
       "      <th>hypertension</th>\n",
       "      <th>heart_disease</th>\n",
       "      <th>avg_glucose_level</th>\n",
       "      <th>bmi</th>\n",
       "      <th>gender_Male</th>\n",
       "      <th>ever_married_Yes</th>\n",
       "      <th>work_type_Never_worked</th>\n",
       "      <th>work_type_Private</th>\n",
       "      <th>work_type_Self_employed</th>\n",
       "      <th>work_type_children</th>\n",
       "      <th>Residence_type_Urban</th>\n",
       "      <th>smoking_status_formerly_smoked</th>\n",
       "      <th>smoking_status_never_smoked</th>\n",
       "      <th>smoking_status_smokes</th>\n",
       "      <th>stroke</th>\n",
       "    </tr>\n",
       "  </thead>\n",
       "  <tbody>\n",
       "    <tr>\n",
       "      <th>6277</th>\n",
       "      <td>76.769747</td>\n",
       "      <td>0</td>\n",
       "      <td>0</td>\n",
       "      <td>191.252526</td>\n",
       "      <td>30.386885</td>\n",
       "      <td>0</td>\n",
       "      <td>1</td>\n",
       "      <td>0</td>\n",
       "      <td>0</td>\n",
       "      <td>0</td>\n",
       "      <td>0</td>\n",
       "      <td>0</td>\n",
       "      <td>0</td>\n",
       "      <td>0</td>\n",
       "      <td>0</td>\n",
       "      <td>1</td>\n",
       "    </tr>\n",
       "    <tr>\n",
       "      <th>9689</th>\n",
       "      <td>79.109956</td>\n",
       "      <td>1</td>\n",
       "      <td>0</td>\n",
       "      <td>175.552221</td>\n",
       "      <td>31.267219</td>\n",
       "      <td>0</td>\n",
       "      <td>1</td>\n",
       "      <td>0</td>\n",
       "      <td>1</td>\n",
       "      <td>0</td>\n",
       "      <td>0</td>\n",
       "      <td>0</td>\n",
       "      <td>1</td>\n",
       "      <td>0</td>\n",
       "      <td>0</td>\n",
       "      <td>1</td>\n",
       "    </tr>\n",
       "    <tr>\n",
       "      <th>6301</th>\n",
       "      <td>78.364677</td>\n",
       "      <td>0</td>\n",
       "      <td>0</td>\n",
       "      <td>216.866363</td>\n",
       "      <td>27.310547</td>\n",
       "      <td>0</td>\n",
       "      <td>1</td>\n",
       "      <td>0</td>\n",
       "      <td>0</td>\n",
       "      <td>0</td>\n",
       "      <td>0</td>\n",
       "      <td>1</td>\n",
       "      <td>0</td>\n",
       "      <td>0</td>\n",
       "      <td>0</td>\n",
       "      <td>1</td>\n",
       "    </tr>\n",
       "    <tr>\n",
       "      <th>848</th>\n",
       "      <td>53.000000</td>\n",
       "      <td>0</td>\n",
       "      <td>0</td>\n",
       "      <td>189.490000</td>\n",
       "      <td>25.800000</td>\n",
       "      <td>0</td>\n",
       "      <td>1</td>\n",
       "      <td>0</td>\n",
       "      <td>0</td>\n",
       "      <td>0</td>\n",
       "      <td>0</td>\n",
       "      <td>0</td>\n",
       "      <td>0</td>\n",
       "      <td>0</td>\n",
       "      <td>0</td>\n",
       "      <td>0</td>\n",
       "    </tr>\n",
       "    <tr>\n",
       "      <th>8461</th>\n",
       "      <td>73.749726</td>\n",
       "      <td>0</td>\n",
       "      <td>0</td>\n",
       "      <td>70.302733</td>\n",
       "      <td>29.151920</td>\n",
       "      <td>0</td>\n",
       "      <td>1</td>\n",
       "      <td>0</td>\n",
       "      <td>0</td>\n",
       "      <td>0</td>\n",
       "      <td>0</td>\n",
       "      <td>0</td>\n",
       "      <td>0</td>\n",
       "      <td>1</td>\n",
       "      <td>0</td>\n",
       "      <td>1</td>\n",
       "    </tr>\n",
       "  </tbody>\n",
       "</table>\n",
       "</div>"
      ],
      "text/plain": [
       "            age  hypertension  heart_disease  avg_glucose_level        bmi  \\\n",
       "6277  76.769747             0              0         191.252526  30.386885   \n",
       "9689  79.109956             1              0         175.552221  31.267219   \n",
       "6301  78.364677             0              0         216.866363  27.310547   \n",
       "848   53.000000             0              0         189.490000  25.800000   \n",
       "8461  73.749726             0              0          70.302733  29.151920   \n",
       "\n",
       "      gender_Male  ever_married_Yes  work_type_Never_worked  \\\n",
       "6277            0                 1                       0   \n",
       "9689            0                 1                       0   \n",
       "6301            0                 1                       0   \n",
       "848             0                 1                       0   \n",
       "8461            0                 1                       0   \n",
       "\n",
       "      work_type_Private  work_type_Self_employed  work_type_children  \\\n",
       "6277                  0                        0                   0   \n",
       "9689                  1                        0                   0   \n",
       "6301                  0                        0                   0   \n",
       "848                   0                        0                   0   \n",
       "8461                  0                        0                   0   \n",
       "\n",
       "      Residence_type_Urban  smoking_status_formerly_smoked  \\\n",
       "6277                     0                               0   \n",
       "9689                     0                               1   \n",
       "6301                     1                               0   \n",
       "848                      0                               0   \n",
       "8461                     0                               0   \n",
       "\n",
       "      smoking_status_never_smoked  smoking_status_smokes  stroke  \n",
       "6277                            0                      0       1  \n",
       "9689                            0                      0       1  \n",
       "6301                            0                      0       1  \n",
       "848                             0                      0       0  \n",
       "8461                            1                      0       1  "
      ]
     },
     "execution_count": 10,
     "metadata": {},
     "output_type": "execute_result"
    }
   ],
   "source": [
    "# shuffling the dataset before model development\n",
    "data = data.sample(frac = 1)\n",
    "data.head()"
   ]
  },
  {
   "cell_type": "code",
   "execution_count": 11,
   "id": "e03a2b57",
   "metadata": {},
   "outputs": [],
   "source": [
    "from sklearn.model_selection import train_test_split\n",
    "\n",
    "np.random.seed(42)  # set the random seed for reproducibility\n",
    "\n",
    "X = data.drop(['stroke'], axis=1)\n",
    "y = data['stroke']\n",
    "\n",
    "X_train, X_test, y_train, y_test = train_test_split(X, y, test_size=0.2, random_state=42)"
   ]
  },
  {
   "cell_type": "code",
   "execution_count": null,
   "id": "c94b2c33",
   "metadata": {},
   "outputs": [],
   "source": []
  },
  {
   "cell_type": "code",
   "execution_count": 12,
   "id": "27a85ea1",
   "metadata": {},
   "outputs": [],
   "source": [
    "### OLD REFS\n",
    "\n",
    "# Dementia - https://github.com/PUUDI/statistic_learning_project2/blob/main/statistics_learning_project_2.ipynb\n",
    "# https://bradleyboehmke.github.io/HOML/knn.html\n",
    "# https://www.kaggle.com/code/harshghadiya/model-evaluation-100-acc-f-1-auc-roc-curve\n",
    "# https://www.kaggle.com/code/kaanboke/beginner-friendly-end-to-end-ml-project-enjoy\n",
    "# https://www.kaggle.com/code/rachidyz/eda-and-modeling-for-predicting-stroke\n",
    "# https://www.kaggle.com/code/namanmanchanda/stroke-eda-and-ann-prediction#5.-Data-preprocessing-\n",
    "# https://www.kaggle.com/code/thomaskonstantin/analyzing-and-modeling-stroke-data"
   ]
  },
  {
   "cell_type": "code",
   "execution_count": 13,
   "id": "66b1b05b",
   "metadata": {},
   "outputs": [],
   "source": [
    "### NEW REFS\n",
    "\n",
    "# https://www.kaggle.com/code/namanmanchanda/stroke-eda-and-ann-prediction#5.-Data-preprocessing-\n",
    "# https://bradleyboehmke.github.io/HOML/knn.html\n",
    "# https://www.kaggle.com/code/siddheshera/stroke-eda-smote-9-models-90-accuracy#Feature-Scaling-\n",
    "# https://www.kaggle.com/code/mechatronixs/prediction-with-7-classification-models-roc-auc#Modeling\n",
    "# https://www.kaggle.com/code/galaxygeorge/stroke-prediction-eda-fe-model#Data-for-Model\n",
    "# https://www.kaggle.com/code/joshuaswords/predicting-a-stroke-shap-lime-explainer-eli5#One-Step-Further:-Logistic-Regression-with-LIME\n",
    "# https://www.kaggle.com/code/rachidyz/eda-and-modeling-for-predicting-stroke#fixing_dataset\n",
    "# https://www.kaggle.com/code/harshghadiya/model-evaluation-100-acc-f-1-auc-roc-curve\n",
    "# https://github.com/PUUDI/statistic_learning_project2/blob/main/statistics_learning_project_2.ipynb\n",
    "\n"
   ]
  },
  {
   "cell_type": "code",
   "execution_count": 14,
   "id": "87ec1a55",
   "metadata": {},
   "outputs": [],
   "source": [
    "#ROC Curve Reference - https://towardsdatascience.com/interpreting-roc-curve-and-roc-auc-for-classification-evaluation-28ec3983f077"
   ]
  },
  {
   "cell_type": "code",
   "execution_count": 15,
   "id": "6e8b5521",
   "metadata": {},
   "outputs": [],
   "source": [
    "###Libraries for Modedl Fitting\n",
    "\n",
    "from sklearn.linear_model import LogisticRegression\n",
    "from sklearn.tree import DecisionTreeClassifier\n",
    "from sklearn.ensemble import RandomForestClassifier\n",
    "from sklearn.metrics import accuracy_score, f1_score, precision_score, recall_score\n",
    "from sklearn.metrics import confusion_matrix, roc_auc_score, roc_curve, classification_report, precision_recall_curve\n",
    "from sklearn.model_selection import train_test_split, cross_val_score, StratifiedKFold, GridSearchCV, RandomizedSearchCV\n",
    "from sklearn.preprocessing import MinMaxScaler, LabelEncoder, StandardScaler, RobustScaler\n",
    "from sklearn.ensemble import AdaBoostClassifier\n",
    "\n",
    "from sklearn.svm import SVC\n",
    "from sklearn.neural_network import MLPClassifier\n",
    "from xgboost import XGBClassifier\n",
    "from lightgbm import LGBMClassifier\n",
    "from catboost import CatBoostClassifier\n",
    "\n",
    "from sklearn.preprocessing import MinMaxScaler, LabelEncoder, StandardScaler, RobustScaler"
   ]
  },
  {
   "cell_type": "code",
   "execution_count": 16,
   "id": "cea6644e",
   "metadata": {},
   "outputs": [
    {
     "data": {
      "text/html": [
       "<div>\n",
       "<style scoped>\n",
       "    .dataframe tbody tr th:only-of-type {\n",
       "        vertical-align: middle;\n",
       "    }\n",
       "\n",
       "    .dataframe tbody tr th {\n",
       "        vertical-align: top;\n",
       "    }\n",
       "\n",
       "    .dataframe thead th {\n",
       "        text-align: right;\n",
       "    }\n",
       "</style>\n",
       "<table border=\"1\" class=\"dataframe\">\n",
       "  <thead>\n",
       "    <tr style=\"text-align: right;\">\n",
       "      <th></th>\n",
       "      <th>age</th>\n",
       "      <th>hypertension</th>\n",
       "      <th>heart_disease</th>\n",
       "      <th>avg_glucose_level</th>\n",
       "      <th>bmi</th>\n",
       "      <th>gender_Male</th>\n",
       "      <th>ever_married_Yes</th>\n",
       "      <th>work_type_Never_worked</th>\n",
       "      <th>work_type_Private</th>\n",
       "      <th>work_type_Self_employed</th>\n",
       "      <th>work_type_children</th>\n",
       "      <th>Residence_type_Urban</th>\n",
       "      <th>smoking_status_formerly_smoked</th>\n",
       "      <th>smoking_status_never_smoked</th>\n",
       "      <th>smoking_status_smokes</th>\n",
       "    </tr>\n",
       "  </thead>\n",
       "  <tbody>\n",
       "    <tr>\n",
       "      <th>6502</th>\n",
       "      <td>64.031224</td>\n",
       "      <td>0</td>\n",
       "      <td>0</td>\n",
       "      <td>114.683601</td>\n",
       "      <td>29.603730</td>\n",
       "      <td>0</td>\n",
       "      <td>1</td>\n",
       "      <td>0</td>\n",
       "      <td>0</td>\n",
       "      <td>0</td>\n",
       "      <td>0</td>\n",
       "      <td>0</td>\n",
       "      <td>0</td>\n",
       "      <td>0</td>\n",
       "      <td>0</td>\n",
       "    </tr>\n",
       "    <tr>\n",
       "      <th>6093</th>\n",
       "      <td>51.535570</td>\n",
       "      <td>0</td>\n",
       "      <td>0</td>\n",
       "      <td>217.553537</td>\n",
       "      <td>49.846577</td>\n",
       "      <td>0</td>\n",
       "      <td>1</td>\n",
       "      <td>0</td>\n",
       "      <td>1</td>\n",
       "      <td>0</td>\n",
       "      <td>0</td>\n",
       "      <td>0</td>\n",
       "      <td>0</td>\n",
       "      <td>0</td>\n",
       "      <td>0</td>\n",
       "    </tr>\n",
       "    <tr>\n",
       "      <th>8204</th>\n",
       "      <td>70.861903</td>\n",
       "      <td>0</td>\n",
       "      <td>0</td>\n",
       "      <td>96.580839</td>\n",
       "      <td>25.344601</td>\n",
       "      <td>0</td>\n",
       "      <td>0</td>\n",
       "      <td>0</td>\n",
       "      <td>1</td>\n",
       "      <td>0</td>\n",
       "      <td>0</td>\n",
       "      <td>0</td>\n",
       "      <td>0</td>\n",
       "      <td>0</td>\n",
       "      <td>0</td>\n",
       "    </tr>\n",
       "    <tr>\n",
       "      <th>2076</th>\n",
       "      <td>8.000000</td>\n",
       "      <td>0</td>\n",
       "      <td>0</td>\n",
       "      <td>96.620000</td>\n",
       "      <td>16.400000</td>\n",
       "      <td>0</td>\n",
       "      <td>0</td>\n",
       "      <td>0</td>\n",
       "      <td>0</td>\n",
       "      <td>0</td>\n",
       "      <td>1</td>\n",
       "      <td>1</td>\n",
       "      <td>0</td>\n",
       "      <td>0</td>\n",
       "      <td>0</td>\n",
       "    </tr>\n",
       "    <tr>\n",
       "      <th>5496</th>\n",
       "      <td>61.258096</td>\n",
       "      <td>0</td>\n",
       "      <td>0</td>\n",
       "      <td>75.937075</td>\n",
       "      <td>27.429048</td>\n",
       "      <td>1</td>\n",
       "      <td>1</td>\n",
       "      <td>0</td>\n",
       "      <td>0</td>\n",
       "      <td>0</td>\n",
       "      <td>0</td>\n",
       "      <td>0</td>\n",
       "      <td>0</td>\n",
       "      <td>0</td>\n",
       "      <td>0</td>\n",
       "    </tr>\n",
       "  </tbody>\n",
       "</table>\n",
       "</div>"
      ],
      "text/plain": [
       "            age  hypertension  heart_disease  avg_glucose_level        bmi  \\\n",
       "6502  64.031224             0              0         114.683601  29.603730   \n",
       "6093  51.535570             0              0         217.553537  49.846577   \n",
       "8204  70.861903             0              0          96.580839  25.344601   \n",
       "2076   8.000000             0              0          96.620000  16.400000   \n",
       "5496  61.258096             0              0          75.937075  27.429048   \n",
       "\n",
       "      gender_Male  ever_married_Yes  work_type_Never_worked  \\\n",
       "6502            0                 1                       0   \n",
       "6093            0                 1                       0   \n",
       "8204            0                 0                       0   \n",
       "2076            0                 0                       0   \n",
       "5496            1                 1                       0   \n",
       "\n",
       "      work_type_Private  work_type_Self_employed  work_type_children  \\\n",
       "6502                  0                        0                   0   \n",
       "6093                  1                        0                   0   \n",
       "8204                  1                        0                   0   \n",
       "2076                  0                        0                   1   \n",
       "5496                  0                        0                   0   \n",
       "\n",
       "      Residence_type_Urban  smoking_status_formerly_smoked  \\\n",
       "6502                     0                               0   \n",
       "6093                     0                               0   \n",
       "8204                     0                               0   \n",
       "2076                     1                               0   \n",
       "5496                     0                               0   \n",
       "\n",
       "      smoking_status_never_smoked  smoking_status_smokes  \n",
       "6502                            0                      0  \n",
       "6093                            0                      0  \n",
       "8204                            0                      0  \n",
       "2076                            0                      0  \n",
       "5496                            0                      0  "
      ]
     },
     "execution_count": 16,
     "metadata": {},
     "output_type": "execute_result"
    }
   ],
   "source": [
    "\n",
    "X_train.head()"
   ]
  },
  {
   "cell_type": "markdown",
   "id": "3e8d5835",
   "metadata": {},
   "source": [
    "### Defining Functions to easily create Confusion matric and ROC curve for each model"
   ]
  },
  {
   "cell_type": "code",
   "execution_count": 17,
   "id": "388aa686",
   "metadata": {},
   "outputs": [],
   "source": [
    "### Function For ROC Curve\n",
    "#Inputs are y_test and y_prob\n",
    "#Make sure to calculate y_prob in each model before generating ROC curve\n",
    "\n",
    "def plot_ROC(y_test, y_prob):\n",
    "    from sklearn import metrics\n",
    "    false_positive_rate, true_positive_rate, thresholds = roc_curve(y_test, y_prob)\n",
    "    roc_auc = metrics.auc(false_positive_rate, true_positive_rate)\n",
    "    sns.set_theme(style = 'white')\n",
    "    plt.figure(figsize = (3, 3))\n",
    "    plt.plot(false_positive_rate,true_positive_rate, color = '#b01717', label = 'AUC = %0.3f' % roc_auc)\n",
    "    plt.legend(loc = 'lower right')\n",
    "    plt.plot([0, 1], [0, 1], linestyle = '--', color = '#174ab0')\n",
    "    plt.axis('tight')\n",
    "    plt.ylabel('True Positive Rate')\n",
    "    plt.xlabel('False Positive Rate')\n",
    "    plt.show()\n"
   ]
  },
  {
   "cell_type": "code",
   "execution_count": 18,
   "id": "36250355",
   "metadata": {},
   "outputs": [],
   "source": [
    "### Function For Confusion matrix\n",
    "\n",
    "def plot_confusion_matrix(y_test, y_pred):\n",
    "    acc = round(accuracy_score(y_test, y_pred), 2)\n",
    "    cm = confusion_matrix(y_test, y_pred)\n",
    "    sns.heatmap(cm, annot=True, fmt=\".0f\")\n",
    "    plt.xlabel('y_pred')\n",
    "    plt.ylabel('y_test')\n",
    "    plt.title('Accuracy Score: {0}'.format(acc), size=10)\n",
    "    plt.show(block=True)"
   ]
  },
  {
   "cell_type": "markdown",
   "id": "0edd205f",
   "metadata": {},
   "source": [
    "## <u> Logistic Regression"
   ]
  },
  {
   "cell_type": "code",
   "execution_count": 28,
   "id": "5e8c94f1",
   "metadata": {},
   "outputs": [
    {
     "name": "stdout",
     "output_type": "stream",
     "text": [
      "=== Confusion Matrix ===\n",
      "[[843 127]\n",
      " [151 823]]\n",
      "\n",
      "\n",
      "=== Classification Report ===\n",
      "              precision    recall  f1-score   support\n",
      "\n",
      "           0       0.85      0.87      0.86       970\n",
      "           1       0.87      0.84      0.86       974\n",
      "\n",
      "    accuracy                           0.86      1944\n",
      "   macro avg       0.86      0.86      0.86      1944\n",
      "weighted avg       0.86      0.86      0.86      1944\n",
      "\n"
     ]
    },
    {
     "name": "stderr",
     "output_type": "stream",
     "text": [
      "C:\\ProgramData\\Anaconda3\\lib\\site-packages\\sklearn\\linear_model\\_logistic.py:814: ConvergenceWarning:\n",
      "\n",
      "lbfgs failed to converge (status=1):\n",
      "STOP: TOTAL NO. of ITERATIONS REACHED LIMIT.\n",
      "\n",
      "Increase the number of iterations (max_iter) or scale the data as shown in:\n",
      "    https://scikit-learn.org/stable/modules/preprocessing.html\n",
      "Please also refer to the documentation for alternative solver options:\n",
      "    https://scikit-learn.org/stable/modules/linear_model.html#logistic-regression\n",
      "\n"
     ]
    }
   ],
   "source": [
    "from sklearn.linear_model import LogisticRegression\n",
    "\n",
    "LR=LogisticRegression()\n",
    "logistic_model = LR.fit(X_train,y_train)\n",
    "y_pred=logistic_model.predict(X_test)\n",
    "class_report=classification_report(y_test,y_pred)\n",
    "\n",
    "print(\"=== Confusion Matrix ===\")\n",
    "print(confusion_matrix(y_test, y_pred))\n",
    "print('\\n')\n",
    "print(\"=== Classification Report ===\")\n",
    "print(classification_report(y_test,y_pred))"
   ]
  },
  {
   "cell_type": "code",
   "execution_count": 23,
   "id": "bda62d73",
   "metadata": {},
   "outputs": [
    {
     "data": {
      "image/png": "[encoded data removed]",
      "text/plain": [
       "<Figure size 300x300 with 1 Axes>"
      ]
     },
     "metadata": {},
     "output_type": "display_data"
    }
   ],
   "source": [
    "###Using the function that we defined above to create ROC \n",
    "\n",
    "y_prob = logistic_model.predict_proba(X_test)[:,1]\n",
    "plot_ROC(y_test, y_prob)"
   ]
  },
  {
   "cell_type": "code",
   "execution_count": 24,
   "id": "884f582d",
   "metadata": {},
   "outputs": [
    {
     "data": {
      "image/png": "[encoded data removed]",
      "text/plain": [
       "<Figure size 640x480 with 2 Axes>"
      ]
     },
     "metadata": {},
     "output_type": "display_data"
    }
   ],
   "source": [
    "###Using the function that we defined above to create confusion matrix\n",
    "\n",
    "plot_confusion_matrix(y_test, y_pred)"
   ]
  },
  {
   "cell_type": "code",
   "execution_count": 29,
   "id": "fb46080d",
   "metadata": {},
   "outputs": [
    {
     "name": "stderr",
     "output_type": "stream",
     "text": [
      "C:\\ProgramData\\Anaconda3\\lib\\site-packages\\sklearn\\linear_model\\_logistic.py:814: ConvergenceWarning:\n",
      "\n",
      "lbfgs failed to converge (status=1):\n",
      "STOP: TOTAL NO. of ITERATIONS REACHED LIMIT.\n",
      "\n",
      "Increase the number of iterations (max_iter) or scale the data as shown in:\n",
      "    https://scikit-learn.org/stable/modules/preprocessing.html\n",
      "Please also refer to the documentation for alternative solver options:\n",
      "    https://scikit-learn.org/stable/modules/linear_model.html#logistic-regression\n",
      "\n",
      "C:\\ProgramData\\Anaconda3\\lib\\site-packages\\sklearn\\linear_model\\_logistic.py:814: ConvergenceWarning:\n",
      "\n",
      "lbfgs failed to converge (status=1):\n",
      "STOP: TOTAL NO. of ITERATIONS REACHED LIMIT.\n",
      "\n",
      "Increase the number of iterations (max_iter) or scale the data as shown in:\n",
      "    https://scikit-learn.org/stable/modules/preprocessing.html\n",
      "Please also refer to the documentation for alternative solver options:\n",
      "    https://scikit-learn.org/stable/modules/linear_model.html#logistic-regression\n",
      "\n",
      "C:\\ProgramData\\Anaconda3\\lib\\site-packages\\sklearn\\linear_model\\_logistic.py:814: ConvergenceWarning:\n",
      "\n",
      "lbfgs failed to converge (status=1):\n",
      "STOP: TOTAL NO. of ITERATIONS REACHED LIMIT.\n",
      "\n",
      "Increase the number of iterations (max_iter) or scale the data as shown in:\n",
      "    https://scikit-learn.org/stable/modules/preprocessing.html\n",
      "Please also refer to the documentation for alternative solver options:\n",
      "    https://scikit-learn.org/stable/modules/linear_model.html#logistic-regression\n",
      "\n"
     ]
    },
    {
     "name": "stdout",
     "output_type": "stream",
     "text": [
      "test_accuracy:  0.9502309491729969\n",
      "test_f1:  0.9487956909143067\n",
      "test_roc_auc:  0.9865625660954127\n"
     ]
    },
    {
     "name": "stderr",
     "output_type": "stream",
     "text": [
      "C:\\ProgramData\\Anaconda3\\lib\\site-packages\\sklearn\\linear_model\\_logistic.py:814: ConvergenceWarning:\n",
      "\n",
      "lbfgs failed to converge (status=1):\n",
      "STOP: TOTAL NO. of ITERATIONS REACHED LIMIT.\n",
      "\n",
      "Increase the number of iterations (max_iter) or scale the data as shown in:\n",
      "    https://scikit-learn.org/stable/modules/preprocessing.html\n",
      "Please also refer to the documentation for alternative solver options:\n",
      "    https://scikit-learn.org/stable/modules/linear_model.html#logistic-regression\n",
      "\n",
      "C:\\ProgramData\\Anaconda3\\lib\\site-packages\\sklearn\\linear_model\\_logistic.py:814: ConvergenceWarning:\n",
      "\n",
      "lbfgs failed to converge (status=1):\n",
      "STOP: TOTAL NO. of ITERATIONS REACHED LIMIT.\n",
      "\n",
      "Increase the number of iterations (max_iter) or scale the data as shown in:\n",
      "    https://scikit-learn.org/stable/modules/preprocessing.html\n",
      "Please also refer to the documentation for alternative solver options:\n",
      "    https://scikit-learn.org/stable/modules/linear_model.html#logistic-regression\n",
      "\n"
     ]
    }
   ],
   "source": [
    "# 5-Fold Cross Validation\n",
    "\n",
    "#Cross Validation provides a more reliable estimate\n",
    "#of the model's performance than Hold-Out validation, and it can help to reduce the risk of overfitting.\n",
    "#Hold out cv is same as we divide dataset in train and test and, train on trainset and test on test set.\n",
    "\n",
    "from sklearn.model_selection import train_test_split, cross_validate\n",
    "\n",
    "cv_results = cross_validate(logistic_model,\n",
    "                            X_train, y_train,\n",
    "                            cv=5,\n",
    "                            scoring=[\"accuracy\", \"precision\", \"recall\", \"f1\", \"roc_auc\"])\n",
    "print(\"test_accuracy: \", cv_results['test_accuracy'].mean())\n",
    "print(\"test_f1: \", cv_results['test_f1'].mean())\n",
    "print(\"test_roc_auc: \", cv_results['test_roc_auc'].mean())"
   ]
  },
  {
   "cell_type": "code",
   "execution_count": 29,
   "id": "6b6506f1",
   "metadata": {},
   "outputs": [
    {
     "name": "stdout",
     "output_type": "stream",
     "text": [
      "=== Confusion Matrix ===\n",
      "[[3338  552]\n",
      " [ 523 3363]]\n",
      "\n",
      "\n",
      "=== Classification Report ===\n",
      "              precision    recall  f1-score   support\n",
      "\n",
      "           0       0.86      0.86      0.86      3890\n",
      "           1       0.86      0.87      0.86      3886\n",
      "\n",
      "    accuracy                           0.86      7776\n",
      "   macro avg       0.86      0.86      0.86      7776\n",
      "weighted avg       0.86      0.86      0.86      7776\n",
      "\n"
     ]
    }
   ],
   "source": [
    "#Trying to check overfiitng by predicting training set\n",
    "\n",
    "y_pred=logistic_model.predict(X_train)\n",
    "class_report=classification_report(y_train,y_pred)\n",
    "\n",
    "print(\"=== Confusion Matrix ===\")\n",
    "print(confusion_matrix(y_train, y_pred))\n",
    "print('\\n')\n",
    "print(\"=== Classification Report ===\")\n",
    "print(classification_report(y_train,y_pred))"
   ]
  },
  {
   "cell_type": "markdown",
   "id": "d8f6a6bb",
   "metadata": {},
   "source": [
    "## <u>KNeighborsClassifier"
   ]
  },
  {
   "cell_type": "code",
   "execution_count": 25,
   "id": "d8cc914e",
   "metadata": {},
   "outputs": [
    {
     "name": "stdout",
     "output_type": "stream",
     "text": [
      "=== Confusion Matrix ===\n",
      "[[775 179]\n",
      " [ 20 970]]\n",
      "\n",
      "\n",
      "=== Classification Report ===\n",
      "              precision    recall  f1-score   support\n",
      "\n",
      "           0       0.97      0.81      0.89       954\n",
      "           1       0.84      0.98      0.91       990\n",
      "\n",
      "    accuracy                           0.90      1944\n",
      "   macro avg       0.91      0.90      0.90      1944\n",
      "weighted avg       0.91      0.90      0.90      1944\n",
      "\n"
     ]
    },
    {
     "name": "stderr",
     "output_type": "stream",
     "text": [
      "C:\\ProgramData\\Anaconda3\\lib\\site-packages\\sklearn\\neighbors\\_classification.py:228: FutureWarning:\n",
      "\n",
      "Unlike other reduction functions (e.g. `skew`, `kurtosis`), the default behavior of `mode` typically preserves the axis it acts along. In SciPy 1.11.0, this behavior will change: the default value of `keepdims` will become False, the `axis` over which the statistic is taken will be eliminated, and the value None will no longer be accepted. Set `keepdims` to True or False to avoid this warning.\n",
      "\n"
     ]
    }
   ],
   "source": [
    "from sklearn.neighbors import KNeighborsClassifier\n",
    "knn_model = KNeighborsClassifier().fit(X_train,y_train)\n",
    "y_pred = knn_model.predict(X_test)\n",
    "y_prob = knn_model.predict_proba(X_test)[:, 1]\n",
    "\n",
    "print(\"=== Confusion Matrix ===\")\n",
    "print(confusion_matrix(y_test, y_pred))\n",
    "print('\\n')\n",
    "print(\"=== Classification Report ===\")\n",
    "print(classification_report(y_test,y_pred))"
   ]
  },
  {
   "cell_type": "code",
   "execution_count": 31,
   "id": "9e233ed7",
   "metadata": {},
   "outputs": [
    {
     "name": "stderr",
     "output_type": "stream",
     "text": [
      "C:\\ProgramData\\Anaconda3\\lib\\site-packages\\sklearn\\neighbors\\_classification.py:228: FutureWarning:\n",
      "\n",
      "Unlike other reduction functions (e.g. `skew`, `kurtosis`), the default behavior of `mode` typically preserves the axis it acts along. In SciPy 1.11.0, this behavior will change: the default value of `keepdims` will become False, the `axis` over which the statistic is taken will be eliminated, and the value None will no longer be accepted. Set `keepdims` to True or False to avoid this warning.\n",
      "\n",
      "C:\\ProgramData\\Anaconda3\\lib\\site-packages\\sklearn\\neighbors\\_classification.py:228: FutureWarning:\n",
      "\n",
      "Unlike other reduction functions (e.g. `skew`, `kurtosis`), the default behavior of `mode` typically preserves the axis it acts along. In SciPy 1.11.0, this behavior will change: the default value of `keepdims` will become False, the `axis` over which the statistic is taken will be eliminated, and the value None will no longer be accepted. Set `keepdims` to True or False to avoid this warning.\n",
      "\n",
      "C:\\ProgramData\\Anaconda3\\lib\\site-packages\\sklearn\\neighbors\\_classification.py:228: FutureWarning:\n",
      "\n",
      "Unlike other reduction functions (e.g. `skew`, `kurtosis`), the default behavior of `mode` typically preserves the axis it acts along. In SciPy 1.11.0, this behavior will change: the default value of `keepdims` will become False, the `axis` over which the statistic is taken will be eliminated, and the value None will no longer be accepted. Set `keepdims` to True or False to avoid this warning.\n",
      "\n",
      "C:\\ProgramData\\Anaconda3\\lib\\site-packages\\sklearn\\neighbors\\_classification.py:228: FutureWarning:\n",
      "\n",
      "Unlike other reduction functions (e.g. `skew`, `kurtosis`), the default behavior of `mode` typically preserves the axis it acts along. In SciPy 1.11.0, this behavior will change: the default value of `keepdims` will become False, the `axis` over which the statistic is taken will be eliminated, and the value None will no longer be accepted. Set `keepdims` to True or False to avoid this warning.\n",
      "\n",
      "C:\\ProgramData\\Anaconda3\\lib\\site-packages\\sklearn\\neighbors\\_classification.py:228: FutureWarning:\n",
      "\n",
      "Unlike other reduction functions (e.g. `skew`, `kurtosis`), the default behavior of `mode` typically preserves the axis it acts along. In SciPy 1.11.0, this behavior will change: the default value of `keepdims` will become False, the `axis` over which the statistic is taken will be eliminated, and the value None will no longer be accepted. Set `keepdims` to True or False to avoid this warning.\n",
      "\n"
     ]
    },
    {
     "name": "stdout",
     "output_type": "stream",
     "text": [
      "test_accuracy:  0.8906884665933757\n",
      "test_f1:  0.8996938461224664\n",
      "test_roc_auc:  0.948827756037798\n"
     ]
    }
   ],
   "source": [
    "### Cross Validation  (((Acutally, not necessary. Remove if confusing)))\n",
    "cv_results = cross_validate(knn_model, X_train, y_train, cv=5, scoring=[\"accuracy\", \"f1\", \"roc_auc\"])\n",
    "print(\"test_accuracy: \", cv_results['test_accuracy'].mean())\n",
    "print(\"test_f1: \", cv_results['test_f1'].mean())\n",
    "print(\"test_roc_auc: \", cv_results['test_roc_auc'].mean())"
   ]
  },
  {
   "cell_type": "code",
   "execution_count": 67,
   "id": "ae313e9f",
   "metadata": {},
   "outputs": [
    {
     "data": {
      "image/png": "[encoded data removed]",
      "text/plain": [
       "<Figure size 300x300 with 1 Axes>"
      ]
     },
     "metadata": {},
     "output_type": "display_data"
    },
    {
     "data": {
      "image/png": "[encoded data removed]",
      "text/plain": [
       "<Figure size 640x480 with 2 Axes>"
      ]
     },
     "metadata": {},
     "output_type": "display_data"
    }
   ],
   "source": [
    "###Using the function that we defined above to create ROC and confusion matrix\n",
    "\n",
    "y_prob = knn_model.predict_proba(X_test)[:,1]\n",
    "plot_ROC(y_test, y_prob)\n",
    "plot_confusion_matrix(y_test, y_pred)"
   ]
  },
  {
   "cell_type": "markdown",
   "id": "0f1890e9",
   "metadata": {},
   "source": [
    "## <u> SVM"
   ]
  },
  {
   "cell_type": "code",
   "execution_count": 26,
   "id": "1b083e1f",
   "metadata": {},
   "outputs": [
    {
     "name": "stdout",
     "output_type": "stream",
     "text": [
      "=== Confusion Matrix ===\n",
      "[[680 274]\n",
      " [167 823]]\n",
      "\n",
      "\n",
      "=== Classification Report ===\n",
      "              precision    recall  f1-score   support\n",
      "\n",
      "           0       0.80      0.71      0.76       954\n",
      "           1       0.75      0.83      0.79       990\n",
      "\n",
      "    accuracy                           0.77      1944\n",
      "   macro avg       0.78      0.77      0.77      1944\n",
      "weighted avg       0.78      0.77      0.77      1944\n",
      "\n"
     ]
    }
   ],
   "source": [
    "svc = SVC(random_state = 22, probability = True)\n",
    "svc.fit(X_train, y_train)\n",
    "y_pred = svc.predict(X_test)\n",
    "\n",
    "print(\"=== Confusion Matrix ===\")\n",
    "print(confusion_matrix(y_test, y_pred))\n",
    "print('\\n')\n",
    "print(\"=== Classification Report ===\")\n",
    "print(classification_report(y_test,y_pred))"
   ]
  },
  {
   "cell_type": "code",
   "execution_count": 27,
   "id": "b5cecb6b",
   "metadata": {},
   "outputs": [
    {
     "data": {
      "image/png": "[encoded data removed]",
      "text/plain": [
       "<Figure size 300x300 with 1 Axes>"
      ]
     },
     "metadata": {},
     "output_type": "display_data"
    },
    {
     "data": {
      "image/png": "[encoded data removed]",
      "text/plain": [
       "<Figure size 640x480 with 2 Axes>"
      ]
     },
     "metadata": {},
     "output_type": "display_data"
    }
   ],
   "source": [
    "###Using the function that we defined above to create ROC and confusion matrix\n",
    "\n",
    "y_prob = svc.predict_proba(X_test)[:,1]\n",
    "plot_ROC(y_test, y_prob)\n",
    "plot_confusion_matrix(y_test, y_pred)"
   ]
  },
  {
   "cell_type": "markdown",
   "id": "669bf861",
   "metadata": {},
   "source": [
    "## <u> Random Forest Classifier"
   ]
  },
  {
   "cell_type": "code",
   "execution_count": 28,
   "id": "1a164327",
   "metadata": {},
   "outputs": [
    {
     "name": "stdout",
     "output_type": "stream",
     "text": [
      "=== Confusion Matrix ===\n",
      "[[764 190]\n",
      " [ 97 893]]\n",
      "\n",
      "\n",
      "=== Classification Report ===\n",
      "              precision    recall  f1-score   support\n",
      "\n",
      "           0       0.89      0.80      0.84       954\n",
      "           1       0.82      0.90      0.86       990\n",
      "\n",
      "    accuracy                           0.85      1944\n",
      "   macro avg       0.86      0.85      0.85      1944\n",
      "weighted avg       0.86      0.85      0.85      1944\n",
      "\n"
     ]
    }
   ],
   "source": [
    "rf = RandomForestClassifier(random_state = 42, max_depth = 5)\n",
    "rf.fit(X_train, y_train)\n",
    "y_pred = rf.predict(X_test)\n",
    "y_prob = rf.predict_proba(X_test)[:,1]\n",
    "\n",
    "print(\"=== Confusion Matrix ===\")\n",
    "print(confusion_matrix(y_test, y_pred))\n",
    "print('\\n')\n",
    "print(\"=== Classification Report ===\")\n",
    "print(classification_report(y_test,y_pred))"
   ]
  },
  {
   "cell_type": "code",
   "execution_count": 29,
   "id": "17926d8a",
   "metadata": {},
   "outputs": [
    {
     "data": {
      "image/png": "[encoded data removed]",
      "text/plain": [
       "<Figure size 300x300 with 1 Axes>"
      ]
     },
     "metadata": {},
     "output_type": "display_data"
    },
    {
     "data": {
      "image/png": "[encoded data removed]",
      "text/plain": [
       "<Figure size 640x480 with 2 Axes>"
      ]
     },
     "metadata": {},
     "output_type": "display_data"
    }
   ],
   "source": [
    "###Using the function that we defined above to create ROC and confusion matrix\n",
    "\n",
    "y_prob = rf.predict_proba(X_test)[:,1]\n",
    "plot_ROC(y_test, y_prob)\n",
    "plot_confusion_matrix(y_test, y_pred)"
   ]
  },
  {
   "cell_type": "code",
   "execution_count": 31,
   "id": "9e734ecc",
   "metadata": {},
   "outputs": [
    {
     "data": {
      "text/html": [
       "<style type=\"text/css\">\n",
       "#T_66936_row0_col1 {\n",
       "  background-color: #08306b;\n",
       "  color: #f1f1f1;\n",
       "}\n",
       "#T_66936_row1_col1 {\n",
       "  background-color: #cbdef1;\n",
       "  color: #000000;\n",
       "}\n",
       "#T_66936_row2_col1 {\n",
       "  background-color: #d9e8f5;\n",
       "  color: #000000;\n",
       "}\n",
       "#T_66936_row3_col1 {\n",
       "  background-color: #dbe9f6;\n",
       "  color: #000000;\n",
       "}\n",
       "#T_66936_row4_col1 {\n",
       "  background-color: #dce9f6;\n",
       "  color: #000000;\n",
       "}\n",
       "#T_66936_row5_col1 {\n",
       "  background-color: #e8f1fa;\n",
       "  color: #000000;\n",
       "}\n",
       "#T_66936_row6_col1 {\n",
       "  background-color: #e9f2fa;\n",
       "  color: #000000;\n",
       "}\n",
       "#T_66936_row7_col1 {\n",
       "  background-color: #f0f6fd;\n",
       "  color: #000000;\n",
       "}\n",
       "#T_66936_row8_col1 {\n",
       "  background-color: #f1f7fd;\n",
       "  color: #000000;\n",
       "}\n",
       "#T_66936_row9_col1 {\n",
       "  background-color: #f2f8fd;\n",
       "  color: #000000;\n",
       "}\n",
       "#T_66936_row10_col1 {\n",
       "  background-color: #f5fafe;\n",
       "  color: #000000;\n",
       "}\n",
       "#T_66936_row11_col1 {\n",
       "  background-color: #f7fbff;\n",
       "  color: #000000;\n",
       "}\n",
       "</style>\n",
       "<table id=\"T_66936\">\n",
       "  <thead>\n",
       "    <tr>\n",
       "      <th class=\"blank level0\" >&nbsp;</th>\n",
       "      <th id=\"T_66936_level0_col0\" class=\"col_heading level0 col0\" >feature</th>\n",
       "      <th id=\"T_66936_level0_col1\" class=\"col_heading level0 col1\" >importance</th>\n",
       "    </tr>\n",
       "  </thead>\n",
       "  <tbody>\n",
       "    <tr>\n",
       "      <th id=\"T_66936_level0_row0\" class=\"row_heading level0 row0\" >0</th>\n",
       "      <td id=\"T_66936_row0_col0\" class=\"data row0 col0\" >age</td>\n",
       "      <td id=\"T_66936_row0_col1\" class=\"data row0 col1\" >0.434762</td>\n",
       "    </tr>\n",
       "    <tr>\n",
       "      <th id=\"T_66936_level0_row1\" class=\"row_heading level0 row1\" >3</th>\n",
       "      <td id=\"T_66936_row1_col0\" class=\"data row1 col0\" >avg_glucose_level</td>\n",
       "      <td id=\"T_66936_row1_col1\" class=\"data row1 col1\" >0.109608</td>\n",
       "    </tr>\n",
       "    <tr>\n",
       "      <th id=\"T_66936_level0_row2\" class=\"row_heading level0 row2\" >13</th>\n",
       "      <td id=\"T_66936_row2_col0\" class=\"data row2 col0\" >smoking_status_never_smoked</td>\n",
       "      <td id=\"T_66936_row2_col1\" class=\"data row2 col1\" >0.079908</td>\n",
       "    </tr>\n",
       "    <tr>\n",
       "      <th id=\"T_66936_level0_row3\" class=\"row_heading level0 row3\" >10</th>\n",
       "      <td id=\"T_66936_row3_col0\" class=\"data row3 col0\" >work_type_children</td>\n",
       "      <td id=\"T_66936_row3_col1\" class=\"data row3 col1\" >0.076336</td>\n",
       "    </tr>\n",
       "    <tr>\n",
       "      <th id=\"T_66936_level0_row4\" class=\"row_heading level0 row4\" >4</th>\n",
       "      <td id=\"T_66936_row4_col0\" class=\"data row4 col0\" >bmi</td>\n",
       "      <td id=\"T_66936_row4_col1\" class=\"data row4 col1\" >0.073867</td>\n",
       "    </tr>\n",
       "    <tr>\n",
       "      <th id=\"T_66936_level0_row5\" class=\"row_heading level0 row5\" >14</th>\n",
       "      <td id=\"T_66936_row5_col0\" class=\"data row5 col0\" >smoking_status_smokes</td>\n",
       "      <td id=\"T_66936_row5_col1\" class=\"data row5 col1\" >0.047584</td>\n",
       "    </tr>\n",
       "    <tr>\n",
       "      <th id=\"T_66936_level0_row6\" class=\"row_heading level0 row6\" >8</th>\n",
       "      <td id=\"T_66936_row6_col0\" class=\"data row6 col0\" >work_type_Private</td>\n",
       "      <td id=\"T_66936_row6_col1\" class=\"data row6 col1\" >0.046277</td>\n",
       "    </tr>\n",
       "    <tr>\n",
       "      <th id=\"T_66936_level0_row7\" class=\"row_heading level0 row7\" >11</th>\n",
       "      <td id=\"T_66936_row7_col0\" class=\"data row7 col0\" >Residence_type_Urban</td>\n",
       "      <td id=\"T_66936_row7_col1\" class=\"data row7 col1\" >0.032234</td>\n",
       "    </tr>\n",
       "    <tr>\n",
       "      <th id=\"T_66936_level0_row8\" class=\"row_heading level0 row8\" >12</th>\n",
       "      <td id=\"T_66936_row8_col0\" class=\"data row8 col0\" >smoking_status_formerly_smoked</td>\n",
       "      <td id=\"T_66936_row8_col1\" class=\"data row8 col1\" >0.029962</td>\n",
       "    </tr>\n",
       "    <tr>\n",
       "      <th id=\"T_66936_level0_row9\" class=\"row_heading level0 row9\" >5</th>\n",
       "      <td id=\"T_66936_row9_col0\" class=\"data row9 col0\" >gender_Male</td>\n",
       "      <td id=\"T_66936_row9_col1\" class=\"data row9 col1\" >0.026987</td>\n",
       "    </tr>\n",
       "    <tr>\n",
       "      <th id=\"T_66936_level0_row10\" class=\"row_heading level0 row10\" >9</th>\n",
       "      <td id=\"T_66936_row10_col0\" class=\"data row10 col0\" >work_type_Self_employed</td>\n",
       "      <td id=\"T_66936_row10_col1\" class=\"data row10 col1\" >0.019761</td>\n",
       "    </tr>\n",
       "    <tr>\n",
       "      <th id=\"T_66936_level0_row11\" class=\"row_heading level0 row11\" >6</th>\n",
       "      <td id=\"T_66936_row11_col0\" class=\"data row11 col0\" >ever_married_Yes</td>\n",
       "      <td id=\"T_66936_row11_col1\" class=\"data row11 col1\" >0.016190</td>\n",
       "    </tr>\n",
       "  </tbody>\n",
       "</table>\n"
      ],
      "text/plain": [
       "<pandas.io.formats.style.Styler at 0x234c080ff70>"
      ]
     },
     "execution_count": 31,
     "metadata": {},
     "output_type": "execute_result"
    }
   ],
   "source": [
    "# Feature importance\n",
    "f_imp3 = pd.DataFrame(columns = ['feature', 'importance'], index = range(15))\n",
    "for i in range(len(f_imp3.index)):\n",
    "    f_imp3.iloc[i, 0] = X_train.columns.to_list()[i]\n",
    "f_imp3['importance'] = rf.feature_importances_\n",
    "f_imp3 = f_imp3.sort_values('importance', ascending = False)\n",
    "f_imp3[0:12].style.background_gradient(cmap = 'Blues')"
   ]
  },
  {
   "cell_type": "markdown",
   "id": "539afabc",
   "metadata": {},
   "source": [
    "## <u>XGBoost"
   ]
  },
  {
   "cell_type": "code",
   "execution_count": 20,
   "id": "6dd96e41",
   "metadata": {},
   "outputs": [
    {
     "name": "stdout",
     "output_type": "stream",
     "text": [
      "=== Confusion Matrix ===\n",
      "[[927  43]\n",
      " [ 48 926]]\n",
      "\n",
      "\n",
      "=== Classification Report ===\n",
      "              precision    recall  f1-score   support\n",
      "\n",
      "           0       0.95      0.96      0.95       970\n",
      "           1       0.96      0.95      0.95       974\n",
      "\n",
      "    accuracy                           0.95      1944\n",
      "   macro avg       0.95      0.95      0.95      1944\n",
      "weighted avg       0.95      0.95      0.95      1944\n",
      "\n"
     ]
    }
   ],
   "source": [
    "xgb = XGBClassifier(random_state = 42, max_depth = 5, objective = 'binary:logistic', eval_metric = 'logloss')\n",
    "xgb.fit(X_train, y_train)\n",
    "y_pred = xgb.predict(X_test)\n",
    "y_prob = xgb.predict_proba(X_test)[:,1]\n",
    "\n",
    "print(\"=== Confusion Matrix ===\")\n",
    "print(confusion_matrix(y_test, y_pred))\n",
    "print('\\n')\n",
    "print(\"=== Classification Report ===\")\n",
    "print(classification_report(y_test,y_pred))"
   ]
  },
  {
   "cell_type": "code",
   "execution_count": 33,
   "id": "69e6a59e",
   "metadata": {},
   "outputs": [
    {
     "data": {
      "image/png": "[encoded data removed]",
      "text/plain": [
       "<Figure size 300x300 with 1 Axes>"
      ]
     },
     "metadata": {},
     "output_type": "display_data"
    },
    {
     "data": {
      "image/png": "[encoded data removed]",
      "text/plain": [
       "<Figure size 640x480 with 2 Axes>"
      ]
     },
     "metadata": {},
     "output_type": "display_data"
    }
   ],
   "source": [
    "###Using the function that we defined above to create ROC and confusion matrix\n",
    "\n",
    "y_prob =xgb.predict_proba(X_test)[:,1]\n",
    "plot_ROC(y_test, y_prob)\n",
    "plot_confusion_matrix(y_test, y_pred)"
   ]
  },
  {
   "cell_type": "code",
   "execution_count": 34,
   "id": "c5356f4c",
   "metadata": {},
   "outputs": [
    {
     "data": {
      "text/html": [
       "<style type=\"text/css\">\n",
       "#T_0a74d_row0_col1 {\n",
       "  background-color: #08306b;\n",
       "  color: #f1f1f1;\n",
       "}\n",
       "#T_0a74d_row1_col1 {\n",
       "  background-color: #09529d;\n",
       "  color: #f1f1f1;\n",
       "}\n",
       "#T_0a74d_row2_col1 {\n",
       "  background-color: #1a68ae;\n",
       "  color: #f1f1f1;\n",
       "}\n",
       "#T_0a74d_row3_col1 {\n",
       "  background-color: #6aaed6;\n",
       "  color: #f1f1f1;\n",
       "}\n",
       "#T_0a74d_row4_col1 {\n",
       "  background-color: #87bddc;\n",
       "  color: #000000;\n",
       "}\n",
       "#T_0a74d_row5_col1 {\n",
       "  background-color: #d1e2f3;\n",
       "  color: #000000;\n",
       "}\n",
       "#T_0a74d_row6_col1 {\n",
       "  background-color: #d4e4f4;\n",
       "  color: #000000;\n",
       "}\n",
       "#T_0a74d_row7_col1 {\n",
       "  background-color: #d6e5f4;\n",
       "  color: #000000;\n",
       "}\n",
       "#T_0a74d_row8_col1 {\n",
       "  background-color: #d9e7f5;\n",
       "  color: #000000;\n",
       "}\n",
       "#T_0a74d_row9_col1 {\n",
       "  background-color: #dceaf6;\n",
       "  color: #000000;\n",
       "}\n",
       "#T_0a74d_row10_col1 {\n",
       "  background-color: #f3f8fe;\n",
       "  color: #000000;\n",
       "}\n",
       "#T_0a74d_row11_col1 {\n",
       "  background-color: #f7fbff;\n",
       "  color: #000000;\n",
       "}\n",
       "</style>\n",
       "<table id=\"T_0a74d\">\n",
       "  <thead>\n",
       "    <tr>\n",
       "      <th class=\"blank level0\" >&nbsp;</th>\n",
       "      <th id=\"T_0a74d_level0_col0\" class=\"col_heading level0 col0\" >feature</th>\n",
       "      <th id=\"T_0a74d_level0_col1\" class=\"col_heading level0 col1\" >importance</th>\n",
       "    </tr>\n",
       "  </thead>\n",
       "  <tbody>\n",
       "    <tr>\n",
       "      <th id=\"T_0a74d_level0_row0\" class=\"row_heading level0 row0\" >14</th>\n",
       "      <td id=\"T_0a74d_row0_col0\" class=\"data row0 col0\" >smoking_status_smokes</td>\n",
       "      <td id=\"T_0a74d_row0_col1\" class=\"data row0 col1\" >0.162378</td>\n",
       "    </tr>\n",
       "    <tr>\n",
       "      <th id=\"T_0a74d_level0_row1\" class=\"row_heading level0 row1\" >13</th>\n",
       "      <td id=\"T_0a74d_row1_col0\" class=\"data row1 col0\" >smoking_status_never_smoked</td>\n",
       "      <td id=\"T_0a74d_row1_col1\" class=\"data row1 col1\" >0.145021</td>\n",
       "    </tr>\n",
       "    <tr>\n",
       "      <th id=\"T_0a74d_level0_row2\" class=\"row_heading level0 row2\" >12</th>\n",
       "      <td id=\"T_0a74d_row2_col0\" class=\"data row2 col0\" >smoking_status_formerly_smoked</td>\n",
       "      <td id=\"T_0a74d_row2_col1\" class=\"data row2 col1\" >0.133680</td>\n",
       "    </tr>\n",
       "    <tr>\n",
       "      <th id=\"T_0a74d_level0_row3\" class=\"row_heading level0 row3\" >0</th>\n",
       "      <td id=\"T_0a74d_row3_col0\" class=\"data row3 col0\" >age</td>\n",
       "      <td id=\"T_0a74d_row3_col1\" class=\"data row3 col1\" >0.096308</td>\n",
       "    </tr>\n",
       "    <tr>\n",
       "      <th id=\"T_0a74d_level0_row4\" class=\"row_heading level0 row4\" >9</th>\n",
       "      <td id=\"T_0a74d_row4_col0\" class=\"data row4 col0\" >work_type_Self_employed</td>\n",
       "      <td id=\"T_0a74d_row4_col1\" class=\"data row4 col1\" >0.086984</td>\n",
       "    </tr>\n",
       "    <tr>\n",
       "      <th id=\"T_0a74d_level0_row5\" class=\"row_heading level0 row5\" >6</th>\n",
       "      <td id=\"T_0a74d_row5_col0\" class=\"data row5 col0\" >ever_married_Yes</td>\n",
       "      <td id=\"T_0a74d_row5_col1\" class=\"data row5 col1\" >0.055831</td>\n",
       "    </tr>\n",
       "    <tr>\n",
       "      <th id=\"T_0a74d_level0_row6\" class=\"row_heading level0 row6\" >11</th>\n",
       "      <td id=\"T_0a74d_row6_col0\" class=\"data row6 col0\" >Residence_type_Urban</td>\n",
       "      <td id=\"T_0a74d_row6_col1\" class=\"data row6 col1\" >0.053806</td>\n",
       "    </tr>\n",
       "    <tr>\n",
       "      <th id=\"T_0a74d_level0_row7\" class=\"row_heading level0 row7\" >2</th>\n",
       "      <td id=\"T_0a74d_row7_col0\" class=\"data row7 col0\" >heart_disease</td>\n",
       "      <td id=\"T_0a74d_row7_col1\" class=\"data row7 col1\" >0.052610</td>\n",
       "    </tr>\n",
       "    <tr>\n",
       "      <th id=\"T_0a74d_level0_row8\" class=\"row_heading level0 row8\" >5</th>\n",
       "      <td id=\"T_0a74d_row8_col0\" class=\"data row8 col0\" >gender_Male</td>\n",
       "      <td id=\"T_0a74d_row8_col1\" class=\"data row8 col1\" >0.050502</td>\n",
       "    </tr>\n",
       "    <tr>\n",
       "      <th id=\"T_0a74d_level0_row9\" class=\"row_heading level0 row9\" >8</th>\n",
       "      <td id=\"T_0a74d_row9_col0\" class=\"data row9 col0\" >work_type_Private</td>\n",
       "      <td id=\"T_0a74d_row9_col1\" class=\"data row9 col1\" >0.048127</td>\n",
       "    </tr>\n",
       "    <tr>\n",
       "      <th id=\"T_0a74d_level0_row10\" class=\"row_heading level0 row10\" >1</th>\n",
       "      <td id=\"T_0a74d_row10_col0\" class=\"data row10 col0\" >hypertension</td>\n",
       "      <td id=\"T_0a74d_row10_col1\" class=\"data row10 col1\" >0.033064</td>\n",
       "    </tr>\n",
       "    <tr>\n",
       "      <th id=\"T_0a74d_level0_row11\" class=\"row_heading level0 row11\" >3</th>\n",
       "      <td id=\"T_0a74d_row11_col0\" class=\"data row11 col0\" >avg_glucose_level</td>\n",
       "      <td id=\"T_0a74d_row11_col1\" class=\"data row11 col1\" >0.030059</td>\n",
       "    </tr>\n",
       "  </tbody>\n",
       "</table>\n"
      ],
      "text/plain": [
       "<pandas.io.formats.style.Styler at 0x234c080fcd0>"
      ]
     },
     "execution_count": 34,
     "metadata": {},
     "output_type": "execute_result"
    }
   ],
   "source": [
    "# Feature importance\n",
    "f_imp3 = pd.DataFrame(columns = ['feature', 'importance'], index = range(15))\n",
    "for i in range(len(f_imp3.index)):\n",
    "    f_imp3.iloc[i, 0] = X_train.columns.to_list()[i]\n",
    "f_imp3['importance'] = xgb.feature_importances_\n",
    "f_imp3 = f_imp3.sort_values('importance', ascending = False)\n",
    "f_imp3[0:12].style.background_gradient(cmap = 'Blues')"
   ]
  },
  {
   "cell_type": "code",
   "execution_count": 81,
   "id": "3a185b5f",
   "metadata": {},
   "outputs": [],
   "source": [
    "#I got this error firstly-\n",
    "#IndexError                                Traceback (most recent call last)\n",
    "#Cell In[41], line 4\n",
    "#      2 f_imp3 = pd.DataFrame(columns = ['feature', 'importance'], index = range(26))\n",
    "#      3 for i in range(len(f_imp3.index)):\n",
    "#----> 4     f_imp3.iloc[i, 0] = X_train.columns.to_list()[i]\n",
    "#      5 f_imp3['importance'] = xgb.feature_importances_\n",
    "#      6 f_imp3 = f_imp3.sort_values('importance', ascending = False)\n",
    "\n",
    "#IndexError: list index out of range\n",
    "\n",
    "#Solution -\n",
    "# This error occurs when the index value used in the iloc function is out of range.\n",
    "#In this case, it is happening in the line f_imp3.iloc[i, 0] = X_train.columns.to_list()[i], where i is the index value.\n",
    "#It seems like the index value i is greater than or equal to the length of the X_train.columns.to_list() list.\n",
    "#This can happen if the number of columns in the X_train dataframe is less than 26.\n",
    "#To fix this error, you can try printing the length of X_train.columns.to_list() and make sure it is at least 26.\n",
    "#If it is less than 26, you can modify the range(26) argument in the pd.DataFrame() function to match the actual number of columns in X_train."
   ]
  },
  {
   "cell_type": "code",
   "execution_count": 21,
   "id": "bea3a9a6",
   "metadata": {},
   "outputs": [
    {
     "name": "stdout",
     "output_type": "stream",
     "text": [
      "Best Hyperparameters:  {'n_estimators': 250, 'max_depth': 4, 'learning_rate': 0.5336699231206312}\n"
     ]
    }
   ],
   "source": [
    "from sklearn.model_selection import RandomizedSearchCV\n",
    "from xgboost import XGBClassifier\n",
    "import numpy as np\n",
    "\n",
    "# Define the parameter distribution for randomized search\n",
    "param_dist = {\n",
    "    'max_depth': np.arange(3, 7),  # Example values for max_depth\n",
    "    'learning_rate': np.logspace(-3, 0, num=100),  # Example values for learning_rate\n",
    "    'n_estimators': np.arange(100, 400, 50),  # Example values for n_estimators\n",
    "    # Add more hyperparameters to tune as needed\n",
    "}\n",
    "\n",
    "# Initialize the XGBClassifier model\n",
    "#xgb = XGBClassifier(random_state=42, objective='binary:logistic', eval_metric='logloss')\n",
    "\n",
    "# Perform Randomized Search Cross Validation (RandomizedSearchCV) for hyperparameter tuning\n",
    "random_search = RandomizedSearchCV(estimator=xgb, param_distributions=param_dist, cv=5,\n",
    "                                   n_iter=10, random_state=42)\n",
    "random_search.fit(X_train, y_train)\n",
    "\n",
    "# Get the best hyperparameters from the RandomizedSearchCV\n",
    "best_params = random_search.best_params_\n",
    "print(\"Best Hyperparameters: \", best_params)\n",
    "\n",
    "\n"
   ]
  },
  {
   "cell_type": "code",
   "execution_count": 22,
   "id": "41482b1b",
   "metadata": {},
   "outputs": [
    {
     "name": "stdout",
     "output_type": "stream",
     "text": [
      "=== Confusion Matrix ===\n",
      "[[932  38]\n",
      " [ 46 928]]\n",
      "\n",
      "\n",
      "=== Classification Report ===\n",
      "              precision    recall  f1-score   support\n",
      "\n",
      "           0       0.95      0.96      0.96       970\n",
      "           1       0.96      0.95      0.96       974\n",
      "\n",
      "    accuracy                           0.96      1944\n",
      "   macro avg       0.96      0.96      0.96      1944\n",
      "weighted avg       0.96      0.96      0.96      1944\n",
      "\n"
     ]
    }
   ],
   "source": [
    "# Train the XGBClassifier model with the best hyperparameters\n",
    "best_xgb = XGBClassifier(random_state=42, objective='binary:logistic', eval_metric='logloss',\n",
    "                         max_depth=best_params['max_depth'],\n",
    "                         learning_rate=best_params['learning_rate'],\n",
    "                         n_estimators=best_params['n_estimators'])\n",
    "best_xgb.fit(X_train, y_train)\n",
    "\n",
    "# Make predictions with the tuned model\n",
    "y_pred = best_xgb.predict(X_test)\n",
    "y_prob = best_xgb.predict_proba(X_test)[:, 1]\n",
    "\n",
    "# Evaluate the performance of the tuned model\n",
    "# Add your evaluation code here\n",
    "\n",
    "print(\"=== Confusion Matrix ===\")\n",
    "print(confusion_matrix(y_test, y_pred))\n",
    "print('\\n')\n",
    "print(\"=== Classification Report ===\")\n",
    "print(classification_report(y_test,y_pred))"
   ]
  },
  {
   "cell_type": "code",
   "execution_count": 27,
   "id": "81cd6758",
   "metadata": {},
   "outputs": [
    {
     "name": "stderr",
     "output_type": "stream",
     "text": [
      "C:\\Users\\Samujitha\\AppData\\Local\\Temp\\ipykernel_14084\\3510246529.py:15: DeprecationWarning:\n",
      "\n",
      "scipy.interp is deprecated and will be removed in SciPy 2.0.0, use numpy.interp instead\n",
      "\n",
      "C:\\Users\\Samujitha\\AppData\\Local\\Temp\\ipykernel_14084\\3510246529.py:15: DeprecationWarning:\n",
      "\n",
      "scipy.interp is deprecated and will be removed in SciPy 2.0.0, use numpy.interp instead\n",
      "\n",
      "C:\\Users\\Samujitha\\AppData\\Local\\Temp\\ipykernel_14084\\3510246529.py:15: DeprecationWarning:\n",
      "\n",
      "scipy.interp is deprecated and will be removed in SciPy 2.0.0, use numpy.interp instead\n",
      "\n",
      "C:\\Users\\Samujitha\\AppData\\Local\\Temp\\ipykernel_14084\\3510246529.py:15: DeprecationWarning:\n",
      "\n",
      "scipy.interp is deprecated and will be removed in SciPy 2.0.0, use numpy.interp instead\n",
      "\n",
      "C:\\Users\\Samujitha\\AppData\\Local\\Temp\\ipykernel_14084\\3510246529.py:15: DeprecationWarning:\n",
      "\n",
      "scipy.interp is deprecated and will be removed in SciPy 2.0.0, use numpy.interp instead\n",
      "\n",
      "C:\\Users\\Samujitha\\AppData\\Local\\Temp\\ipykernel_14084\\3510246529.py:15: DeprecationWarning:\n",
      "\n",
      "scipy.interp is deprecated and will be removed in SciPy 2.0.0, use numpy.interp instead\n",
      "\n",
      "C:\\Users\\Samujitha\\AppData\\Local\\Temp\\ipykernel_14084\\3510246529.py:15: DeprecationWarning:\n",
      "\n",
      "scipy.interp is deprecated and will be removed in SciPy 2.0.0, use numpy.interp instead\n",
      "\n",
      "C:\\Users\\Samujitha\\AppData\\Local\\Temp\\ipykernel_14084\\3510246529.py:15: DeprecationWarning:\n",
      "\n",
      "scipy.interp is deprecated and will be removed in SciPy 2.0.0, use numpy.interp instead\n",
      "\n",
      "C:\\Users\\Samujitha\\AppData\\Local\\Temp\\ipykernel_14084\\3510246529.py:15: DeprecationWarning:\n",
      "\n",
      "scipy.interp is deprecated and will be removed in SciPy 2.0.0, use numpy.interp instead\n",
      "\n",
      "C:\\Users\\Samujitha\\AppData\\Local\\Temp\\ipykernel_14084\\3510246529.py:15: DeprecationWarning:\n",
      "\n",
      "scipy.interp is deprecated and will be removed in SciPy 2.0.0, use numpy.interp instead\n",
      "\n"
     ]
    },
    {
     "data": {
      "image/png": "[encoded data removed]",
      "text/plain": [
       "<Figure size 640x480 with 1 Axes>"
      ]
     },
     "metadata": {},
     "output_type": "display_data"
    }
   ],
   "source": [
    "from sklearn.model_selection import StratifiedKFold\n",
    "import matplotlib.pyplot as plt\n",
    "import numpy as np\n",
    "import scipy\n",
    "from sklearn import metrics\n",
    "\n",
    "cv = StratifiedKFold(n_splits=10, shuffle=True)\n",
    "tprs, aucs = [], []\n",
    "mean_fpr = np.linspace(0,1,100)\n",
    "fig = plt.figure()\n",
    "i = 1\n",
    "for train, test in cv.split(X_train, y_train):\n",
    "    prediction = xgb.fit(X_train.iloc[train], y_train.iloc[train]).predict_proba(X_train.iloc[test])\n",
    "    fpr, tpr, t = metrics.roc_curve(y_train.iloc[test], prediction[:, 1])\n",
    "    tprs.append(scipy.interp(mean_fpr, fpr, tpr))\n",
    "    roc_auc = metrics.auc(fpr, tpr)\n",
    "    aucs.append(roc_auc)\n",
    "    plt.plot(fpr, tpr, lw=2, alpha=0.3, label='ROC fold %d (AUC = %0.2f)' % (i, roc_auc))\n",
    "    i = i+1\n",
    "\n",
    "plt.plot([0,1], [0,1], linestyle='--', lw=2, color='black')\n",
    "mean_tpr = np.mean(tprs, axis=0)\n",
    "mean_auc = metrics.auc(mean_fpr, mean_tpr)\n",
    "plt.plot(mean_fpr, mean_tpr, color='blue', label=r'Mean ROC (AUC = %0.2f )' % (mean_auc), lw=2, alpha=1)\n",
    "plt.xlabel('False Positive Rate')\n",
    "plt.ylabel('True Positive Rate')\n",
    "plt.title('K-Fold Validation')\n",
    "plt.legend(loc=\"lower right\")\n",
    "plt.show()\n"
   ]
  },
  {
   "cell_type": "markdown",
   "id": "b513e11a",
   "metadata": {},
   "source": [
    "## <u> AdaBoost Classifier "
   ]
  },
  {
   "cell_type": "code",
   "execution_count": 35,
   "id": "a4c7bcf7",
   "metadata": {},
   "outputs": [
    {
     "name": "stdout",
     "output_type": "stream",
     "text": [
      "=== Confusion Matrix ===\n",
      "[[867  87]\n",
      " [ 74 916]]\n",
      "\n",
      "\n",
      "=== Classification Report ===\n",
      "              precision    recall  f1-score   support\n",
      "\n",
      "           0       0.92      0.91      0.92       954\n",
      "           1       0.91      0.93      0.92       990\n",
      "\n",
      "    accuracy                           0.92      1944\n",
      "   macro avg       0.92      0.92      0.92      1944\n",
      "weighted avg       0.92      0.92      0.92      1944\n",
      "\n"
     ]
    }
   ],
   "source": [
    "Ada = AdaBoostClassifier(n_estimators=2000, random_state = 42)\n",
    "Ada.fit(X_train, y_train)\n",
    "y_pred = Ada.predict(X_test)\n",
    "y_prob = Ada.predict_proba(X_test)[:,1]\n",
    "\n",
    "print(\"=== Confusion Matrix ===\")\n",
    "print(confusion_matrix(y_test, y_pred))\n",
    "print('\\n')\n",
    "print(\"=== Classification Report ===\")\n",
    "print(classification_report(y_test,y_pred))"
   ]
  },
  {
   "cell_type": "code",
   "execution_count": 36,
   "id": "5388b563",
   "metadata": {},
   "outputs": [
    {
     "data": {
      "image/png": "[encoded data removed]",
      "text/plain": [
       "<Figure size 300x300 with 1 Axes>"
      ]
     },
     "metadata": {},
     "output_type": "display_data"
    },
    {
     "data": {
      "image/png": "[encoded data removed]",
      "text/plain": [
       "<Figure size 640x480 with 2 Axes>"
      ]
     },
     "metadata": {},
     "output_type": "display_data"
    }
   ],
   "source": [
    "###Using the function that we defined above to create ROC and confusion matrix\n",
    "\n",
    "y_prob =Ada.predict_proba(X_test)[:,1]\n",
    "plot_ROC(y_test, y_prob)\n",
    "plot_confusion_matrix(y_test, y_pred)"
   ]
  },
  {
   "cell_type": "code",
   "execution_count": 28,
   "id": "fae00f7a",
   "metadata": {},
   "outputs": [
    {
     "data": {
      "text/html": [
       "<style type=\"text/css\">\n",
       "#T_9a90e_row0_col1 {\n",
       "  background-color: #08306b;\n",
       "  color: #f1f1f1;\n",
       "}\n",
       "#T_9a90e_row1_col1 {\n",
       "  background-color: #084990;\n",
       "  color: #f1f1f1;\n",
       "}\n",
       "#T_9a90e_row2_col1 {\n",
       "  background-color: #549fcd;\n",
       "  color: #f1f1f1;\n",
       "}\n",
       "#T_9a90e_row3_col1 {\n",
       "  background-color: #f1f7fd;\n",
       "  color: #000000;\n",
       "}\n",
       "#T_9a90e_row4_col1 {\n",
       "  background-color: #f2f7fd;\n",
       "  color: #000000;\n",
       "}\n",
       "#T_9a90e_row5_col1, #T_9a90e_row6_col1 {\n",
       "  background-color: #f2f8fd;\n",
       "  color: #000000;\n",
       "}\n",
       "#T_9a90e_row7_col1 {\n",
       "  background-color: #f5fafe;\n",
       "  color: #000000;\n",
       "}\n",
       "#T_9a90e_row8_col1 {\n",
       "  background-color: #f6faff;\n",
       "  color: #000000;\n",
       "}\n",
       "#T_9a90e_row9_col1, #T_9a90e_row10_col1, #T_9a90e_row11_col1 {\n",
       "  background-color: #f7fbff;\n",
       "  color: #000000;\n",
       "}\n",
       "</style>\n",
       "<table id=\"T_9a90e\">\n",
       "  <thead>\n",
       "    <tr>\n",
       "      <th class=\"blank level0\" >&nbsp;</th>\n",
       "      <th id=\"T_9a90e_level0_col0\" class=\"col_heading level0 col0\" >feature</th>\n",
       "      <th id=\"T_9a90e_level0_col1\" class=\"col_heading level0 col1\" >importance</th>\n",
       "    </tr>\n",
       "  </thead>\n",
       "  <tbody>\n",
       "    <tr>\n",
       "      <th id=\"T_9a90e_level0_row0\" class=\"row_heading level0 row0\" >0</th>\n",
       "      <td id=\"T_9a90e_row0_col0\" class=\"data row0 col0\" >age</td>\n",
       "      <td id=\"T_9a90e_row0_col1\" class=\"data row0 col1\" >0.307500</td>\n",
       "    </tr>\n",
       "    <tr>\n",
       "      <th id=\"T_9a90e_level0_row1\" class=\"row_heading level0 row1\" >3</th>\n",
       "      <td id=\"T_9a90e_row1_col0\" class=\"data row1 col0\" >avg_glucose_level</td>\n",
       "      <td id=\"T_9a90e_row1_col1\" class=\"data row1 col1\" >0.280000</td>\n",
       "    </tr>\n",
       "    <tr>\n",
       "      <th id=\"T_9a90e_level0_row2\" class=\"row_heading level0 row2\" >4</th>\n",
       "      <td id=\"T_9a90e_row2_col0\" class=\"data row2 col0\" >bmi</td>\n",
       "      <td id=\"T_9a90e_row2_col1\" class=\"data row2 col1\" >0.182000</td>\n",
       "    </tr>\n",
       "    <tr>\n",
       "      <th id=\"T_9a90e_level0_row3\" class=\"row_heading level0 row3\" >6</th>\n",
       "      <td id=\"T_9a90e_row3_col0\" class=\"data row3 col0\" >gender_Male</td>\n",
       "      <td id=\"T_9a90e_row3_col1\" class=\"data row3 col1\" >0.025000</td>\n",
       "    </tr>\n",
       "    <tr>\n",
       "      <th id=\"T_9a90e_level0_row4\" class=\"row_heading level0 row4\" >5</th>\n",
       "      <td id=\"T_9a90e_row4_col0\" class=\"data row4 col0\" >gender_Female</td>\n",
       "      <td id=\"T_9a90e_row4_col1\" class=\"data row4 col1\" >0.024000</td>\n",
       "    </tr>\n",
       "    <tr>\n",
       "      <th id=\"T_9a90e_level0_row5\" class=\"row_heading level0 row5\" >14</th>\n",
       "      <td id=\"T_9a90e_row5_col0\" class=\"data row5 col0\" >Residence_type_Rural</td>\n",
       "      <td id=\"T_9a90e_row5_col1\" class=\"data row5 col1\" >0.023000</td>\n",
       "    </tr>\n",
       "    <tr>\n",
       "      <th id=\"T_9a90e_level0_row6\" class=\"row_heading level0 row6\" >15</th>\n",
       "      <td id=\"T_9a90e_row6_col0\" class=\"data row6 col0\" >Residence_type_Urban</td>\n",
       "      <td id=\"T_9a90e_row6_col1\" class=\"data row6 col1\" >0.022500</td>\n",
       "    </tr>\n",
       "    <tr>\n",
       "      <th id=\"T_9a90e_level0_row7\" class=\"row_heading level0 row7\" >18</th>\n",
       "      <td id=\"T_9a90e_row7_col0\" class=\"data row7 col0\" >smoking_status_never_smoked</td>\n",
       "      <td id=\"T_9a90e_row7_col1\" class=\"data row7 col1\" >0.018000</td>\n",
       "    </tr>\n",
       "    <tr>\n",
       "      <th id=\"T_9a90e_level0_row8\" class=\"row_heading level0 row8\" >11</th>\n",
       "      <td id=\"T_9a90e_row8_col0\" class=\"data row8 col0\" >work_type_Private</td>\n",
       "      <td id=\"T_9a90e_row8_col1\" class=\"data row8 col1\" >0.017000</td>\n",
       "    </tr>\n",
       "    <tr>\n",
       "      <th id=\"T_9a90e_level0_row9\" class=\"row_heading level0 row9\" >17</th>\n",
       "      <td id=\"T_9a90e_row9_col0\" class=\"data row9 col0\" >smoking_status_formerly_smoked</td>\n",
       "      <td id=\"T_9a90e_row9_col1\" class=\"data row9 col1\" >0.016500</td>\n",
       "    </tr>\n",
       "    <tr>\n",
       "      <th id=\"T_9a90e_level0_row10\" class=\"row_heading level0 row10\" >16</th>\n",
       "      <td id=\"T_9a90e_row10_col0\" class=\"data row10 col0\" >smoking_status_Unknown</td>\n",
       "      <td id=\"T_9a90e_row10_col1\" class=\"data row10 col1\" >0.016500</td>\n",
       "    </tr>\n",
       "    <tr>\n",
       "      <th id=\"T_9a90e_level0_row11\" class=\"row_heading level0 row11\" >12</th>\n",
       "      <td id=\"T_9a90e_row11_col0\" class=\"data row11 col0\" >work_type_Self_employed</td>\n",
       "      <td id=\"T_9a90e_row11_col1\" class=\"data row11 col1\" >0.015500</td>\n",
       "    </tr>\n",
       "  </tbody>\n",
       "</table>\n"
      ],
      "text/plain": [
       "<pandas.io.formats.style.Styler at 0x1d786860790>"
      ]
     },
     "execution_count": 28,
     "metadata": {},
     "output_type": "execute_result"
    }
   ],
   "source": [
    "# Feature importance\n",
    "f_imp3 = pd.DataFrame(columns = ['feature', 'importance'], index = range(20))\n",
    "for i in range(len(f_imp3.index)):\n",
    "    f_imp3.iloc[i, 0] = X_train.columns.to_list()[i]\n",
    "f_imp3['importance'] = Ada.feature_importances_\n",
    "f_imp3 = f_imp3.sort_values('importance', ascending = False)\n",
    "f_imp3[0:12].style.background_gradient(cmap = 'Blues')"
   ]
  },
  {
   "cell_type": "code",
   "execution_count": 71,
   "id": "83f8d07f",
   "metadata": {},
   "outputs": [
    {
     "name": "stdout",
     "output_type": "stream",
     "text": [
      "{'learning_rate': 0.3, 'n_estimators': 500}\n"
     ]
    }
   ],
   "source": [
    "### Hyper parameter tuning\n",
    "\n",
    "from sklearn.model_selection import GridSearchCV\n",
    "\n",
    "# Create grid search object\n",
    "params = {'n_estimators': [100,200,500,700], 'learning_rate' : [0.01,0.05,0.1,0.3,1]}\n",
    "grid = GridSearchCV(Ada, params)\n",
    "\n",
    "# Fit on data\n",
    "grid.fit(X_train, y_train)\n",
    "\n",
    "# Get best parameters\n",
    "print(grid.best_params_)"
   ]
  },
  {
   "cell_type": "code",
   "execution_count": 32,
   "id": "f0c95a75",
   "metadata": {},
   "outputs": [
    {
     "name": "stdout",
     "output_type": "stream",
     "text": [
      "=== Confusion Matrix ===\n",
      "[[983  12]\n",
      " [ 65 884]]\n",
      "\n",
      "\n",
      "=== Classification Report ===\n",
      "              precision    recall  f1-score   support\n",
      "\n",
      "           0       0.94      0.99      0.96       995\n",
      "           1       0.99      0.93      0.96       949\n",
      "\n",
      "    accuracy                           0.96      1944\n",
      "   macro avg       0.96      0.96      0.96      1944\n",
      "weighted avg       0.96      0.96      0.96      1944\n",
      "\n"
     ]
    }
   ],
   "source": [
    "Ada1 = AdaBoostClassifier(n_estimators=500, learning_rate=0.3, random_state = 42)\n",
    "Ada1.fit(X_train, y_train)\n",
    "y_pred = Ada1.predict(X_test)\n",
    "y_prob = Ada1.predict_proba(X_test)[:,1]\n",
    "\n",
    "print(\"=== Confusion Matrix ===\")\n",
    "print(confusion_matrix(y_test, y_pred))\n",
    "print('\\n')\n",
    "print(\"=== Classification Report ===\")\n",
    "print(classification_report(y_test,y_pred))\n"
   ]
  },
  {
   "cell_type": "code",
   "execution_count": 34,
   "id": "06298927",
   "metadata": {},
   "outputs": [
    {
     "data": {
      "text/html": [
       "<style type=\"text/css\">\n",
       "#T_702ed_row0_col1 {\n",
       "  background-color: #08306b;\n",
       "  color: #f1f1f1;\n",
       "}\n",
       "#T_702ed_row1_col1 {\n",
       "  background-color: #084082;\n",
       "  color: #f1f1f1;\n",
       "}\n",
       "#T_702ed_row2_col1 {\n",
       "  background-color: #084f99;\n",
       "  color: #f1f1f1;\n",
       "}\n",
       "#T_702ed_row3_col1, #T_702ed_row4_col1 {\n",
       "  background-color: #3c8cc3;\n",
       "  color: #f1f1f1;\n",
       "}\n",
       "#T_702ed_row5_col1, #T_702ed_row6_col1, #T_702ed_row7_col1 {\n",
       "  background-color: #4e9acb;\n",
       "  color: #f1f1f1;\n",
       "}\n",
       "#T_702ed_row8_col1 {\n",
       "  background-color: #77b5d9;\n",
       "  color: #000000;\n",
       "}\n",
       "#T_702ed_row9_col1 {\n",
       "  background-color: #b8d5ea;\n",
       "  color: #000000;\n",
       "}\n",
       "#T_702ed_row10_col1 {\n",
       "  background-color: #ebf3fb;\n",
       "  color: #000000;\n",
       "}\n",
       "#T_702ed_row11_col1 {\n",
       "  background-color: #f7fbff;\n",
       "  color: #000000;\n",
       "}\n",
       "</style>\n",
       "<table id=\"T_702ed\">\n",
       "  <thead>\n",
       "    <tr>\n",
       "      <th class=\"blank level0\" >&nbsp;</th>\n",
       "      <th id=\"T_702ed_level0_col0\" class=\"col_heading level0 col0\" >feature</th>\n",
       "      <th id=\"T_702ed_level0_col1\" class=\"col_heading level0 col1\" >importance</th>\n",
       "    </tr>\n",
       "  </thead>\n",
       "  <tbody>\n",
       "    <tr>\n",
       "      <th id=\"T_702ed_level0_row0\" class=\"row_heading level0 row0\" >0</th>\n",
       "      <td id=\"T_702ed_row0_col0\" class=\"data row0 col0\" >age</td>\n",
       "      <td id=\"T_702ed_row0_col1\" class=\"data row0 col1\" >0.084000</td>\n",
       "    </tr>\n",
       "    <tr>\n",
       "      <th id=\"T_702ed_level0_row1\" class=\"row_heading level0 row1\" >14</th>\n",
       "      <td id=\"T_702ed_row1_col0\" class=\"data row1 col0\" >Residence_type_Rural</td>\n",
       "      <td id=\"T_702ed_row1_col1\" class=\"data row1 col1\" >0.082000</td>\n",
       "    </tr>\n",
       "    <tr>\n",
       "      <th id=\"T_702ed_level0_row2\" class=\"row_heading level0 row2\" >15</th>\n",
       "      <td id=\"T_702ed_row2_col0\" class=\"data row2 col0\" >Residence_type_Urban</td>\n",
       "      <td id=\"T_702ed_row2_col1\" class=\"data row2 col1\" >0.080000</td>\n",
       "    </tr>\n",
       "    <tr>\n",
       "      <th id=\"T_702ed_level0_row3\" class=\"row_heading level0 row3\" >3</th>\n",
       "      <td id=\"T_702ed_row3_col0\" class=\"data row3 col0\" >avg_glucose_level</td>\n",
       "      <td id=\"T_702ed_row3_col1\" class=\"data row3 col1\" >0.072000</td>\n",
       "    </tr>\n",
       "    <tr>\n",
       "      <th id=\"T_702ed_level0_row4\" class=\"row_heading level0 row4\" >5</th>\n",
       "      <td id=\"T_702ed_row4_col0\" class=\"data row4 col0\" >gender_Female</td>\n",
       "      <td id=\"T_702ed_row4_col1\" class=\"data row4 col1\" >0.072000</td>\n",
       "    </tr>\n",
       "    <tr>\n",
       "      <th id=\"T_702ed_level0_row5\" class=\"row_heading level0 row5\" >11</th>\n",
       "      <td id=\"T_702ed_row5_col0\" class=\"data row5 col0\" >work_type_Private</td>\n",
       "      <td id=\"T_702ed_row5_col1\" class=\"data row5 col1\" >0.070000</td>\n",
       "    </tr>\n",
       "    <tr>\n",
       "      <th id=\"T_702ed_level0_row6\" class=\"row_heading level0 row6\" >18</th>\n",
       "      <td id=\"T_702ed_row6_col0\" class=\"data row6 col0\" >smoking_status_never_smoked</td>\n",
       "      <td id=\"T_702ed_row6_col1\" class=\"data row6 col1\" >0.070000</td>\n",
       "    </tr>\n",
       "    <tr>\n",
       "      <th id=\"T_702ed_level0_row7\" class=\"row_heading level0 row7\" >6</th>\n",
       "      <td id=\"T_702ed_row7_col0\" class=\"data row7 col0\" >gender_Male</td>\n",
       "      <td id=\"T_702ed_row7_col1\" class=\"data row7 col1\" >0.070000</td>\n",
       "    </tr>\n",
       "    <tr>\n",
       "      <th id=\"T_702ed_level0_row8\" class=\"row_heading level0 row8\" >12</th>\n",
       "      <td id=\"T_702ed_row8_col0\" class=\"data row8 col0\" >work_type_Self_employed</td>\n",
       "      <td id=\"T_702ed_row8_col1\" class=\"data row8 col1\" >0.066000</td>\n",
       "    </tr>\n",
       "    <tr>\n",
       "      <th id=\"T_702ed_level0_row9\" class=\"row_heading level0 row9\" >17</th>\n",
       "      <td id=\"T_702ed_row9_col0\" class=\"data row9 col0\" >smoking_status_formerly_smoked</td>\n",
       "      <td id=\"T_702ed_row9_col1\" class=\"data row9 col1\" >0.060000</td>\n",
       "    </tr>\n",
       "    <tr>\n",
       "      <th id=\"T_702ed_level0_row10\" class=\"row_heading level0 row10\" >16</th>\n",
       "      <td id=\"T_702ed_row10_col0\" class=\"data row10 col0\" >smoking_status_Unknown</td>\n",
       "      <td id=\"T_702ed_row10_col1\" class=\"data row10 col1\" >0.052000</td>\n",
       "    </tr>\n",
       "    <tr>\n",
       "      <th id=\"T_702ed_level0_row11\" class=\"row_heading level0 row11\" >19</th>\n",
       "      <td id=\"T_702ed_row11_col0\" class=\"data row11 col0\" >smoking_status_smokes</td>\n",
       "      <td id=\"T_702ed_row11_col1\" class=\"data row11 col1\" >0.050000</td>\n",
       "    </tr>\n",
       "  </tbody>\n",
       "</table>\n"
      ],
      "text/plain": [
       "<pandas.io.formats.style.Styler at 0x1b4a93b46d0>"
      ]
     },
     "execution_count": 34,
     "metadata": {},
     "output_type": "execute_result"
    }
   ],
   "source": [
    "# Feature importance\n",
    "f_imp3 = pd.DataFrame(columns = ['feature', 'importance'], index = range(20))\n",
    "for i in range(len(f_imp3.index)):\n",
    "    f_imp3.iloc[i, 0] = X_train.columns.to_list()[i]\n",
    "f_imp3['importance'] = Ada1.feature_importances_\n",
    "f_imp3 = f_imp3.sort_values('importance', ascending = False)\n",
    "f_imp3[0:12].style.background_gradient(cmap = 'Blues')"
   ]
  },
  {
   "cell_type": "markdown",
   "id": "631e7185",
   "metadata": {},
   "source": [
    "## <u> CatBoost Classifier"
   ]
  },
  {
   "cell_type": "code",
   "execution_count": 31,
   "id": "da336c4c",
   "metadata": {},
   "outputs": [
    {
     "name": "stdout",
     "output_type": "stream",
     "text": [
      "=== Confusion Matrix ===\n",
      "[[982  13]\n",
      " [ 50 899]]\n",
      "\n",
      "\n",
      "=== Classification Report ===\n",
      "              precision    recall  f1-score   support\n",
      "\n",
      "           0       0.95      0.99      0.97       995\n",
      "           1       0.99      0.95      0.97       949\n",
      "\n",
      "    accuracy                           0.97      1944\n",
      "   macro avg       0.97      0.97      0.97      1944\n",
      "weighted avg       0.97      0.97      0.97      1944\n",
      "\n"
     ]
    }
   ],
   "source": [
    "cat = CatBoostClassifier(logging_level='Silent')\n",
    "cat.fit(X_train, y_train)\n",
    "y_pred = cat.predict(X_test)\n",
    "y_prob = cat.predict_proba(X_test)[:,1]\n",
    "\n",
    "print(\"=== Confusion Matrix ===\")\n",
    "print(confusion_matrix(y_test, y_pred))\n",
    "print('\\n')\n",
    "print(\"=== Classification Report ===\")\n",
    "print(classification_report(y_test,y_pred))\n"
   ]
  },
  {
   "cell_type": "code",
   "execution_count": 30,
   "id": "59d9ae17",
   "metadata": {},
   "outputs": [
    {
     "data": {
      "image/png": "[encoded data removed]",
      "text/plain": [
       "<Figure size 300x300 with 1 Axes>"
      ]
     },
     "metadata": {},
     "output_type": "display_data"
    },
    {
     "data": {
      "image/png": "[encoded data removed]",
      "text/plain": [
       "<Figure size 640x480 with 2 Axes>"
      ]
     },
     "metadata": {},
     "output_type": "display_data"
    }
   ],
   "source": [
    "###Using the function that we defined above to create ROC and confusion matrix\n",
    "\n",
    "y_prob =cat.predict_proba(X_test)[:,1]\n",
    "plot_ROC(y_test, y_prob)\n",
    "plot_confusion_matrix(y_test, y_pred)"
   ]
  },
  {
   "cell_type": "code",
   "execution_count": 35,
   "id": "5eae5fa9",
   "metadata": {},
   "outputs": [
    {
     "data": {
      "text/html": [
       "<style type=\"text/css\">\n",
       "#T_77369_row0_col1 {\n",
       "  background-color: #08306b;\n",
       "  color: #f1f1f1;\n",
       "}\n",
       "#T_77369_row1_col1 {\n",
       "  background-color: #084a91;\n",
       "  color: #f1f1f1;\n",
       "}\n",
       "#T_77369_row2_col1 {\n",
       "  background-color: #3585bf;\n",
       "  color: #f1f1f1;\n",
       "}\n",
       "#T_77369_row3_col1 {\n",
       "  background-color: #3d8dc4;\n",
       "  color: #f1f1f1;\n",
       "}\n",
       "#T_77369_row4_col1 {\n",
       "  background-color: #3f8fc5;\n",
       "  color: #f1f1f1;\n",
       "}\n",
       "#T_77369_row5_col1 {\n",
       "  background-color: #92c4de;\n",
       "  color: #000000;\n",
       "}\n",
       "#T_77369_row6_col1 {\n",
       "  background-color: #97c6df;\n",
       "  color: #000000;\n",
       "}\n",
       "#T_77369_row7_col1 {\n",
       "  background-color: #a8cee4;\n",
       "  color: #000000;\n",
       "}\n",
       "#T_77369_row8_col1 {\n",
       "  background-color: #caddf0;\n",
       "  color: #000000;\n",
       "}\n",
       "#T_77369_row9_col1 {\n",
       "  background-color: #e7f1fa;\n",
       "  color: #000000;\n",
       "}\n",
       "#T_77369_row10_col1 {\n",
       "  background-color: #edf4fc;\n",
       "  color: #000000;\n",
       "}\n",
       "#T_77369_row11_col1 {\n",
       "  background-color: #f7fbff;\n",
       "  color: #000000;\n",
       "}\n",
       "</style>\n",
       "<table id=\"T_77369\">\n",
       "  <thead>\n",
       "    <tr>\n",
       "      <th class=\"blank level0\" >&nbsp;</th>\n",
       "      <th id=\"T_77369_level0_col0\" class=\"col_heading level0 col0\" >feature</th>\n",
       "      <th id=\"T_77369_level0_col1\" class=\"col_heading level0 col1\" >importance</th>\n",
       "    </tr>\n",
       "  </thead>\n",
       "  <tbody>\n",
       "    <tr>\n",
       "      <th id=\"T_77369_level0_row0\" class=\"row_heading level0 row0\" >18</th>\n",
       "      <td id=\"T_77369_row0_col0\" class=\"data row0 col0\" >smoking_status_never_smoked</td>\n",
       "      <td id=\"T_77369_row0_col1\" class=\"data row0 col1\" >10.386306</td>\n",
       "    </tr>\n",
       "    <tr>\n",
       "      <th id=\"T_77369_level0_row1\" class=\"row_heading level0 row1\" >0</th>\n",
       "      <td id=\"T_77369_row1_col0\" class=\"data row1 col0\" >age</td>\n",
       "      <td id=\"T_77369_row1_col1\" class=\"data row1 col1\" >9.830836</td>\n",
       "    </tr>\n",
       "    <tr>\n",
       "      <th id=\"T_77369_level0_row2\" class=\"row_heading level0 row2\" >15</th>\n",
       "      <td id=\"T_77369_row2_col0\" class=\"data row2 col0\" >Residence_type_Urban</td>\n",
       "      <td id=\"T_77369_row2_col1\" class=\"data row2 col1\" >8.566778</td>\n",
       "    </tr>\n",
       "    <tr>\n",
       "      <th id=\"T_77369_level0_row3\" class=\"row_heading level0 row3\" >16</th>\n",
       "      <td id=\"T_77369_row3_col0\" class=\"data row3 col0\" >smoking_status_Unknown</td>\n",
       "      <td id=\"T_77369_row3_col1\" class=\"data row3 col1\" >8.375161</td>\n",
       "    </tr>\n",
       "    <tr>\n",
       "      <th id=\"T_77369_level0_row4\" class=\"row_heading level0 row4\" >14</th>\n",
       "      <td id=\"T_77369_row4_col0\" class=\"data row4 col0\" >Residence_type_Rural</td>\n",
       "      <td id=\"T_77369_row4_col1\" class=\"data row4 col1\" >8.331961</td>\n",
       "    </tr>\n",
       "    <tr>\n",
       "      <th id=\"T_77369_level0_row5\" class=\"row_heading level0 row5\" >11</th>\n",
       "      <td id=\"T_77369_row5_col0\" class=\"data row5 col0\" >work_type_Private</td>\n",
       "      <td id=\"T_77369_row5_col1\" class=\"data row5 col1\" >7.047223</td>\n",
       "    </tr>\n",
       "    <tr>\n",
       "      <th id=\"T_77369_level0_row6\" class=\"row_heading level0 row6\" >17</th>\n",
       "      <td id=\"T_77369_row6_col0\" class=\"data row6 col0\" >smoking_status_formerly_smoked</td>\n",
       "      <td id=\"T_77369_row6_col1\" class=\"data row6 col1\" >6.971937</td>\n",
       "    </tr>\n",
       "    <tr>\n",
       "      <th id=\"T_77369_level0_row7\" class=\"row_heading level0 row7\" >5</th>\n",
       "      <td id=\"T_77369_row7_col0\" class=\"data row7 col0\" >gender_Female</td>\n",
       "      <td id=\"T_77369_row7_col1\" class=\"data row7 col1\" >6.710000</td>\n",
       "    </tr>\n",
       "    <tr>\n",
       "      <th id=\"T_77369_level0_row8\" class=\"row_heading level0 row8\" >6</th>\n",
       "      <td id=\"T_77369_row8_col0\" class=\"data row8 col0\" >gender_Male</td>\n",
       "      <td id=\"T_77369_row8_col1\" class=\"data row8 col1\" >6.075940</td>\n",
       "    </tr>\n",
       "    <tr>\n",
       "      <th id=\"T_77369_level0_row9\" class=\"row_heading level0 row9\" >19</th>\n",
       "      <td id=\"T_77369_row9_col0\" class=\"data row9 col0\" >smoking_status_smokes</td>\n",
       "      <td id=\"T_77369_row9_col1\" class=\"data row9 col1\" >5.236442</td>\n",
       "    </tr>\n",
       "    <tr>\n",
       "      <th id=\"T_77369_level0_row10\" class=\"row_heading level0 row10\" >3</th>\n",
       "      <td id=\"T_77369_row10_col0\" class=\"data row10 col0\" >avg_glucose_level</td>\n",
       "      <td id=\"T_77369_row10_col1\" class=\"data row10 col1\" >5.062730</td>\n",
       "    </tr>\n",
       "    <tr>\n",
       "      <th id=\"T_77369_level0_row11\" class=\"row_heading level0 row11\" >12</th>\n",
       "      <td id=\"T_77369_row11_col0\" class=\"data row11 col0\" >work_type_Self_employed</td>\n",
       "      <td id=\"T_77369_row11_col1\" class=\"data row11 col1\" >4.776915</td>\n",
       "    </tr>\n",
       "  </tbody>\n",
       "</table>\n"
      ],
      "text/plain": [
       "<pandas.io.formats.style.Styler at 0x1b4a9561760>"
      ]
     },
     "execution_count": 35,
     "metadata": {},
     "output_type": "execute_result"
    }
   ],
   "source": [
    "# Feature importance\n",
    "f_imp3 = pd.DataFrame(columns = ['feature', 'importance'], index = range(20))\n",
    "for i in range(len(f_imp3.index)):\n",
    "    f_imp3.iloc[i, 0] = X_train.columns.to_list()[i]\n",
    "f_imp3['importance'] = cat.feature_importances_\n",
    "f_imp3 = f_imp3.sort_values('importance', ascending = False)\n",
    "f_imp3[0:12].style.background_gradient(cmap = 'Blues')"
   ]
  },
  {
   "cell_type": "code",
   "execution_count": 36,
   "id": "d6443ed5",
   "metadata": {},
   "outputs": [],
   "source": [
    "import pickle\n",
    "pickle.dump(cat,open('cat_try.pkl','wb'))"
   ]
  },
  {
   "cell_type": "code",
   "execution_count": 74,
   "id": "5e62a5c2",
   "metadata": {},
   "outputs": [],
   "source": [
    "import pickle\n",
    "pickle.dump(Ada,open('Ada_try.pkl','wb'))"
   ]
  },
  {
   "cell_type": "code",
   "execution_count": 32,
   "id": "bc76f1af",
   "metadata": {},
   "outputs": [],
   "source": [
    "import pickle\n",
    "pickle.dump(xgb,open('xgb_try2.pkl','wb'))"
   ]
  },
  {
   "cell_type": "code",
   "execution_count": 43,
   "id": "0b5377c2",
   "metadata": {},
   "outputs": [
    {
     "name": "stderr",
     "output_type": "stream",
     "text": [
      "C:\\ProgramData\\Anaconda3\\lib\\site-packages\\sklearn\\base.py:493: FutureWarning:\n",
      "\n",
      "The feature names should match those that were passed during fit. Starting version 1.2, an error will be raised.\n",
      "Feature names unseen at fit time:\n",
      "- smoking_status_formerly_smoked\n",
      "- smoking_status_never_smoked\n",
      "- work_type_Self_employed\n",
      "Feature names seen at fit time, yet now missing:\n",
      "- smoking_status_formerly smoked\n",
      "- smoking_status_never smoked\n",
      "- work_type_Self-employed\n",
      "\n",
      "\n"
     ]
    },
    {
     "data": {
      "text/plain": [
       "array([[934,   4],\n",
       "       [ 67, 939]], dtype=int64)"
      ]
     },
     "execution_count": 43,
     "metadata": {},
     "output_type": "execute_result"
    }
   ],
   "source": [
    "model=pickle.load(open('Ada_try.pkl','rb'))\n",
    "y_pred = model.predict(X_test)\n",
    "confusion_matrix(y_test, y_pred)"
   ]
  },
  {
   "cell_type": "code",
   "execution_count": 46,
   "id": "acff9983",
   "metadata": {},
   "outputs": [
    {
     "name": "stderr",
     "output_type": "stream",
     "text": [
      "C:\\ProgramData\\Anaconda3\\lib\\site-packages\\sklearn\\neighbors\\_classification.py:228: FutureWarning:\n",
      "\n",
      "Unlike other reduction functions (e.g. `skew`, `kurtosis`), the default behavior of `mode` typically preserves the axis it acts along. In SciPy 1.11.0, this behavior will change: the default value of `keepdims` will become False, the `axis` over which the statistic is taken will be eliminated, and the value None will no longer be accepted. Set `keepdims` to True or False to avoid this warning.\n",
      "\n"
     ]
    },
    {
     "data": {
      "text/plain": [
       "array([[747, 191],\n",
       "       [ 16, 990]], dtype=int64)"
      ]
     },
     "execution_count": 46,
     "metadata": {},
     "output_type": "execute_result"
    }
   ],
   "source": [
    "model1=pickle.load(open('knn_try.pkl','rb'))\n",
    "\n",
    "y_pred = model1.predict(X_test)\n",
    "confusion_matrix(y_test, y_pred)"
   ]
  },
  {
   "cell_type": "code",
   "execution_count": 40,
   "id": "4f3ae459",
   "metadata": {},
   "outputs": [],
   "source": [
    "knn_model \n",
    "pickle.dump(knn_model,open('knn_try.pkl','wb'))"
   ]
  },
  {
   "cell_type": "code",
   "execution_count": 49,
   "id": "de9cff31",
   "metadata": {},
   "outputs": [
    {
     "data": {
      "text/plain": [
       "array([[920,  18],\n",
       "       [ 51, 955]], dtype=int64)"
      ]
     },
     "execution_count": 49,
     "metadata": {},
     "output_type": "execute_result"
    }
   ],
   "source": [
    "model1=pickle.load(open('xgb_try2.pkl','rb'))\n",
    "\n",
    "y_pred = model1.predict(X_test)\n",
    "confusion_matrix(y_test, y_pred)"
   ]
  },
  {
   "cell_type": "code",
   "execution_count": 58,
   "id": "ac3f5587",
   "metadata": {},
   "outputs": [
    {
     "name": "stderr",
     "output_type": "stream",
     "text": [
      "C:\\ProgramData\\Anaconda3\\lib\\site-packages\\sklearn\\base.py:450: UserWarning:\n",
      "\n",
      "X does not have valid feature names, but AdaBoostClassifier was fitted with feature names\n",
      "\n"
     ]
    },
    {
     "data": {
      "text/plain": [
       "array([0], dtype=int64)"
      ]
     },
     "execution_count": 58,
     "metadata": {},
     "output_type": "execute_result"
    }
   ],
   "source": [
    "age=90\n",
    "bmi=90\n",
    "avg_glucose_level=99\n",
    "ever_married_Yes=1\n",
    "ever_married_No=0\n",
    "hypertension=1\n",
    "heart_disease=1\n",
    "gender_Male=1\n",
    "gender_Female=0\n",
    "Residence_type_Urban=1\n",
    "Residence_type_Rural=0\n",
    "smoking_status_smokes=1\n",
    "smoking_status_formerly_smoked=0\n",
    "smoking_status_never_smoked=0\n",
    "smoking_status_Unknown=0\n",
    "work_type_Govt_job=1\n",
    "work_type_Never_worked=0\n",
    "work_type_Private=0\n",
    "work_type_Self_employed=0\n",
    "work_type_children=0\n",
    "\n",
    "\n",
    "y_pred = model.predict([[90,\n",
    "90,\n",
    "99,\n",
    "1,\n",
    "0,\n",
    "1,\n",
    "1,\n",
    "1,\n",
    "0,\n",
    "1,\n",
    "0,\n",
    "1,\n",
    "0,\n",
    "0,\n",
    "0,\n",
    "1,\n",
    "0,\n",
    "0,\n",
    "0,\n",
    "0]])\n",
    "\n",
    "y_pred\n",
    "\n"
   ]
  },
  {
   "cell_type": "code",
   "execution_count": 87,
   "id": "92104919",
   "metadata": {},
   "outputs": [],
   "source": [
    "df=[90,1,1,143,90,1,1,1,0,1,0,1,0,0,0,1,0,0,0,0]"
   ]
  },
  {
   "cell_type": "code",
   "execution_count": 72,
   "id": "8ee06237",
   "metadata": {},
   "outputs": [
    {
     "ename": "InvalidIndexError",
     "evalue": "(1, slice(None, None, None))",
     "output_type": "error",
     "traceback": [
      "\u001b[1;31m---------------------------------------------------------------------------\u001b[0m",
      "\u001b[1;31mTypeError\u001b[0m                                 Traceback (most recent call last)",
      "File \u001b[1;32mC:\\ProgramData\\Anaconda3\\lib\\site-packages\\pandas\\core\\indexes\\base.py:3629\u001b[0m, in \u001b[0;36mIndex.get_loc\u001b[1;34m(self, key, method, tolerance)\u001b[0m\n\u001b[0;32m   3628\u001b[0m \u001b[38;5;28;01mtry\u001b[39;00m:\n\u001b[1;32m-> 3629\u001b[0m     \u001b[38;5;28;01mreturn\u001b[39;00m \u001b[38;5;28;43mself\u001b[39;49m\u001b[38;5;241;43m.\u001b[39;49m\u001b[43m_engine\u001b[49m\u001b[38;5;241;43m.\u001b[39;49m\u001b[43mget_loc\u001b[49m\u001b[43m(\u001b[49m\u001b[43mcasted_key\u001b[49m\u001b[43m)\u001b[49m\n\u001b[0;32m   3630\u001b[0m \u001b[38;5;28;01mexcept\u001b[39;00m \u001b[38;5;167;01mKeyError\u001b[39;00m \u001b[38;5;28;01mas\u001b[39;00m err:\n",
      "File \u001b[1;32mC:\\ProgramData\\Anaconda3\\lib\\site-packages\\pandas\\_libs\\index.pyx:136\u001b[0m, in \u001b[0;36mpandas._libs.index.IndexEngine.get_loc\u001b[1;34m()\u001b[0m\n",
      "File \u001b[1;32mC:\\ProgramData\\Anaconda3\\lib\\site-packages\\pandas\\_libs\\index.pyx:142\u001b[0m, in \u001b[0;36mpandas._libs.index.IndexEngine.get_loc\u001b[1;34m()\u001b[0m\n",
      "\u001b[1;31mTypeError\u001b[0m: '(1, slice(None, None, None))' is an invalid key",
      "\nDuring handling of the above exception, another exception occurred:\n",
      "\u001b[1;31mInvalidIndexError\u001b[0m                         Traceback (most recent call last)",
      "Cell \u001b[1;32mIn[72], line 1\u001b[0m\n\u001b[1;32m----> 1\u001b[0m \u001b[38;5;28mtype\u001b[39m(\u001b[43mX_test\u001b[49m\u001b[43m[\u001b[49m\u001b[38;5;241;43m1\u001b[39;49m\u001b[43m,\u001b[49m\u001b[43m:\u001b[49m\u001b[43m]\u001b[49m)\n",
      "File \u001b[1;32mC:\\ProgramData\\Anaconda3\\lib\\site-packages\\pandas\\core\\frame.py:3505\u001b[0m, in \u001b[0;36mDataFrame.__getitem__\u001b[1;34m(self, key)\u001b[0m\n\u001b[0;32m   3503\u001b[0m \u001b[38;5;28;01mif\u001b[39;00m \u001b[38;5;28mself\u001b[39m\u001b[38;5;241m.\u001b[39mcolumns\u001b[38;5;241m.\u001b[39mnlevels \u001b[38;5;241m>\u001b[39m \u001b[38;5;241m1\u001b[39m:\n\u001b[0;32m   3504\u001b[0m     \u001b[38;5;28;01mreturn\u001b[39;00m \u001b[38;5;28mself\u001b[39m\u001b[38;5;241m.\u001b[39m_getitem_multilevel(key)\n\u001b[1;32m-> 3505\u001b[0m indexer \u001b[38;5;241m=\u001b[39m \u001b[38;5;28;43mself\u001b[39;49m\u001b[38;5;241;43m.\u001b[39;49m\u001b[43mcolumns\u001b[49m\u001b[38;5;241;43m.\u001b[39;49m\u001b[43mget_loc\u001b[49m\u001b[43m(\u001b[49m\u001b[43mkey\u001b[49m\u001b[43m)\u001b[49m\n\u001b[0;32m   3506\u001b[0m \u001b[38;5;28;01mif\u001b[39;00m is_integer(indexer):\n\u001b[0;32m   3507\u001b[0m     indexer \u001b[38;5;241m=\u001b[39m [indexer]\n",
      "File \u001b[1;32mC:\\ProgramData\\Anaconda3\\lib\\site-packages\\pandas\\core\\indexes\\base.py:3636\u001b[0m, in \u001b[0;36mIndex.get_loc\u001b[1;34m(self, key, method, tolerance)\u001b[0m\n\u001b[0;32m   3631\u001b[0m         \u001b[38;5;28;01mraise\u001b[39;00m \u001b[38;5;167;01mKeyError\u001b[39;00m(key) \u001b[38;5;28;01mfrom\u001b[39;00m \u001b[38;5;21;01merr\u001b[39;00m\n\u001b[0;32m   3632\u001b[0m     \u001b[38;5;28;01mexcept\u001b[39;00m \u001b[38;5;167;01mTypeError\u001b[39;00m:\n\u001b[0;32m   3633\u001b[0m         \u001b[38;5;66;03m# If we have a listlike key, _check_indexing_error will raise\u001b[39;00m\n\u001b[0;32m   3634\u001b[0m         \u001b[38;5;66;03m#  InvalidIndexError. Otherwise we fall through and re-raise\u001b[39;00m\n\u001b[0;32m   3635\u001b[0m         \u001b[38;5;66;03m#  the TypeError.\u001b[39;00m\n\u001b[1;32m-> 3636\u001b[0m         \u001b[38;5;28;43mself\u001b[39;49m\u001b[38;5;241;43m.\u001b[39;49m\u001b[43m_check_indexing_error\u001b[49m\u001b[43m(\u001b[49m\u001b[43mkey\u001b[49m\u001b[43m)\u001b[49m\n\u001b[0;32m   3637\u001b[0m         \u001b[38;5;28;01mraise\u001b[39;00m\n\u001b[0;32m   3639\u001b[0m \u001b[38;5;66;03m# GH#42269\u001b[39;00m\n",
      "File \u001b[1;32mC:\\ProgramData\\Anaconda3\\lib\\site-packages\\pandas\\core\\indexes\\base.py:5651\u001b[0m, in \u001b[0;36mIndex._check_indexing_error\u001b[1;34m(self, key)\u001b[0m\n\u001b[0;32m   5647\u001b[0m \u001b[38;5;28;01mdef\u001b[39;00m \u001b[38;5;21m_check_indexing_error\u001b[39m(\u001b[38;5;28mself\u001b[39m, key):\n\u001b[0;32m   5648\u001b[0m     \u001b[38;5;28;01mif\u001b[39;00m \u001b[38;5;129;01mnot\u001b[39;00m is_scalar(key):\n\u001b[0;32m   5649\u001b[0m         \u001b[38;5;66;03m# if key is not a scalar, directly raise an error (the code below\u001b[39;00m\n\u001b[0;32m   5650\u001b[0m         \u001b[38;5;66;03m# would convert to numpy arrays and raise later any way) - GH29926\u001b[39;00m\n\u001b[1;32m-> 5651\u001b[0m         \u001b[38;5;28;01mraise\u001b[39;00m InvalidIndexError(key)\n",
      "\u001b[1;31mInvalidIndexError\u001b[0m: (1, slice(None, None, None))"
     ]
    }
   ],
   "source": [
    "type(X_test[0])"
   ]
  },
  {
   "cell_type": "code",
   "execution_count": 68,
   "id": "bbde783f",
   "metadata": {},
   "outputs": [
    {
     "ename": "AttributeError",
     "evalue": "'list' object has no attribute 'reshape'",
     "output_type": "error",
     "traceback": [
      "\u001b[1;31m---------------------------------------------------------------------------\u001b[0m",
      "\u001b[1;31mAttributeError\u001b[0m                            Traceback (most recent call last)",
      "Cell \u001b[1;32mIn[68], line 1\u001b[0m\n\u001b[1;32m----> 1\u001b[0m df\u001b[38;5;241m=\u001b[39m\u001b[43mdf\u001b[49m\u001b[38;5;241;43m.\u001b[39;49m\u001b[43mreshape\u001b[49m(\u001b[38;5;241m1\u001b[39m,\u001b[38;5;241m-\u001b[39m\u001b[38;5;241m1\u001b[39m)\n\u001b[0;32m      2\u001b[0m y_pred1 \u001b[38;5;241m=\u001b[39m model\u001b[38;5;241m.\u001b[39mpredict(df)\n\u001b[0;32m      3\u001b[0m y_pred1\n",
      "\u001b[1;31mAttributeError\u001b[0m: 'list' object has no attribute 'reshape'"
     ]
    }
   ],
   "source": [
    "df=df.reshape(1,-1)\n",
    "y_pred1 = model.predict(df)\n",
    "y_pred1"
   ]
  },
  {
   "cell_type": "code",
   "execution_count": 73,
   "id": "011ae148",
   "metadata": {},
   "outputs": [
    {
     "ename": "KeyError",
     "evalue": "0",
     "output_type": "error",
     "traceback": [
      "\u001b[1;31m---------------------------------------------------------------------------\u001b[0m",
      "\u001b[1;31mKeyError\u001b[0m                                  Traceback (most recent call last)",
      "File \u001b[1;32mC:\\ProgramData\\Anaconda3\\lib\\site-packages\\pandas\\core\\indexes\\base.py:3629\u001b[0m, in \u001b[0;36mIndex.get_loc\u001b[1;34m(self, key, method, tolerance)\u001b[0m\n\u001b[0;32m   3628\u001b[0m \u001b[38;5;28;01mtry\u001b[39;00m:\n\u001b[1;32m-> 3629\u001b[0m     \u001b[38;5;28;01mreturn\u001b[39;00m \u001b[38;5;28;43mself\u001b[39;49m\u001b[38;5;241;43m.\u001b[39;49m\u001b[43m_engine\u001b[49m\u001b[38;5;241;43m.\u001b[39;49m\u001b[43mget_loc\u001b[49m\u001b[43m(\u001b[49m\u001b[43mcasted_key\u001b[49m\u001b[43m)\u001b[49m\n\u001b[0;32m   3630\u001b[0m \u001b[38;5;28;01mexcept\u001b[39;00m \u001b[38;5;167;01mKeyError\u001b[39;00m \u001b[38;5;28;01mas\u001b[39;00m err:\n",
      "File \u001b[1;32mC:\\ProgramData\\Anaconda3\\lib\\site-packages\\pandas\\_libs\\index.pyx:136\u001b[0m, in \u001b[0;36mpandas._libs.index.IndexEngine.get_loc\u001b[1;34m()\u001b[0m\n",
      "File \u001b[1;32mC:\\ProgramData\\Anaconda3\\lib\\site-packages\\pandas\\_libs\\index.pyx:163\u001b[0m, in \u001b[0;36mpandas._libs.index.IndexEngine.get_loc\u001b[1;34m()\u001b[0m\n",
      "File \u001b[1;32mpandas\\_libs\\hashtable_class_helper.pxi:5198\u001b[0m, in \u001b[0;36mpandas._libs.hashtable.PyObjectHashTable.get_item\u001b[1;34m()\u001b[0m\n",
      "File \u001b[1;32mpandas\\_libs\\hashtable_class_helper.pxi:5206\u001b[0m, in \u001b[0;36mpandas._libs.hashtable.PyObjectHashTable.get_item\u001b[1;34m()\u001b[0m\n",
      "\u001b[1;31mKeyError\u001b[0m: 0",
      "\nThe above exception was the direct cause of the following exception:\n",
      "\u001b[1;31mKeyError\u001b[0m                                  Traceback (most recent call last)",
      "Cell \u001b[1;32mIn[73], line 1\u001b[0m\n\u001b[1;32m----> 1\u001b[0m \u001b[43mX_test\u001b[49m\u001b[43m[\u001b[49m\u001b[38;5;241;43m0\u001b[39;49m\u001b[43m]\u001b[49m\n",
      "File \u001b[1;32mC:\\ProgramData\\Anaconda3\\lib\\site-packages\\pandas\\core\\frame.py:3505\u001b[0m, in \u001b[0;36mDataFrame.__getitem__\u001b[1;34m(self, key)\u001b[0m\n\u001b[0;32m   3503\u001b[0m \u001b[38;5;28;01mif\u001b[39;00m \u001b[38;5;28mself\u001b[39m\u001b[38;5;241m.\u001b[39mcolumns\u001b[38;5;241m.\u001b[39mnlevels \u001b[38;5;241m>\u001b[39m \u001b[38;5;241m1\u001b[39m:\n\u001b[0;32m   3504\u001b[0m     \u001b[38;5;28;01mreturn\u001b[39;00m \u001b[38;5;28mself\u001b[39m\u001b[38;5;241m.\u001b[39m_getitem_multilevel(key)\n\u001b[1;32m-> 3505\u001b[0m indexer \u001b[38;5;241m=\u001b[39m \u001b[38;5;28;43mself\u001b[39;49m\u001b[38;5;241;43m.\u001b[39;49m\u001b[43mcolumns\u001b[49m\u001b[38;5;241;43m.\u001b[39;49m\u001b[43mget_loc\u001b[49m\u001b[43m(\u001b[49m\u001b[43mkey\u001b[49m\u001b[43m)\u001b[49m\n\u001b[0;32m   3506\u001b[0m \u001b[38;5;28;01mif\u001b[39;00m is_integer(indexer):\n\u001b[0;32m   3507\u001b[0m     indexer \u001b[38;5;241m=\u001b[39m [indexer]\n",
      "File \u001b[1;32mC:\\ProgramData\\Anaconda3\\lib\\site-packages\\pandas\\core\\indexes\\base.py:3631\u001b[0m, in \u001b[0;36mIndex.get_loc\u001b[1;34m(self, key, method, tolerance)\u001b[0m\n\u001b[0;32m   3629\u001b[0m     \u001b[38;5;28;01mreturn\u001b[39;00m \u001b[38;5;28mself\u001b[39m\u001b[38;5;241m.\u001b[39m_engine\u001b[38;5;241m.\u001b[39mget_loc(casted_key)\n\u001b[0;32m   3630\u001b[0m \u001b[38;5;28;01mexcept\u001b[39;00m \u001b[38;5;167;01mKeyError\u001b[39;00m \u001b[38;5;28;01mas\u001b[39;00m err:\n\u001b[1;32m-> 3631\u001b[0m     \u001b[38;5;28;01mraise\u001b[39;00m \u001b[38;5;167;01mKeyError\u001b[39;00m(key) \u001b[38;5;28;01mfrom\u001b[39;00m \u001b[38;5;21;01merr\u001b[39;00m\n\u001b[0;32m   3632\u001b[0m \u001b[38;5;28;01mexcept\u001b[39;00m \u001b[38;5;167;01mTypeError\u001b[39;00m:\n\u001b[0;32m   3633\u001b[0m     \u001b[38;5;66;03m# If we have a listlike key, _check_indexing_error will raise\u001b[39;00m\n\u001b[0;32m   3634\u001b[0m     \u001b[38;5;66;03m#  InvalidIndexError. Otherwise we fall through and re-raise\u001b[39;00m\n\u001b[0;32m   3635\u001b[0m     \u001b[38;5;66;03m#  the TypeError.\u001b[39;00m\n\u001b[0;32m   3636\u001b[0m     \u001b[38;5;28mself\u001b[39m\u001b[38;5;241m.\u001b[39m_check_indexing_error(key)\n",
      "\u001b[1;31mKeyError\u001b[0m: 0"
     ]
    }
   ],
   "source": [
    "X_test[0]"
   ]
  },
  {
   "cell_type": "code",
   "execution_count": 78,
   "id": "f2b5c971",
   "metadata": {},
   "outputs": [
    {
     "data": {
      "text/plain": [
       "age                                78.439022\n",
       "hypertension                        0.000000\n",
       "heart_disease                       0.000000\n",
       "avg_glucose_level                 142.051217\n",
       "bmi                                28.477237\n",
       "gender_Female                       0.000000\n",
       "gender_Male                         1.000000\n",
       "ever_married_No                     0.000000\n",
       "ever_married_Yes                    1.000000\n",
       "work_type_Govt_job                  0.000000\n",
       "work_type_Never_worked              0.000000\n",
       "work_type_Private                   1.000000\n",
       "work_type_Self_employed             0.000000\n",
       "work_type_children                  0.000000\n",
       "Residence_type_Rural                0.000000\n",
       "Residence_type_Urban                1.000000\n",
       "smoking_status_Unknown              0.000000\n",
       "smoking_status_formerly_smoked      0.000000\n",
       "smoking_status_never_smoked         0.000000\n",
       "smoking_status_smokes               0.000000\n",
       "Name: 7468, dtype: float64"
      ]
     },
     "execution_count": 78,
     "metadata": {},
     "output_type": "execute_result"
    }
   ],
   "source": [
    "\n",
    "X_test.iloc[0]"
   ]
  },
  {
   "cell_type": "code",
   "execution_count": 79,
   "id": "3b7572c0",
   "metadata": {},
   "outputs": [
    {
     "data": {
      "text/plain": [
       "pandas.core.series.Series"
      ]
     },
     "execution_count": 79,
     "metadata": {},
     "output_type": "execute_result"
    }
   ],
   "source": [
    "type(X_test.iloc[0])"
   ]
  },
  {
   "cell_type": "code",
   "execution_count": 82,
   "id": "570a05a4",
   "metadata": {},
   "outputs": [
    {
     "data": {
      "text/plain": [
       "(20,)"
      ]
     },
     "execution_count": 82,
     "metadata": {},
     "output_type": "execute_result"
    }
   ],
   "source": [
    "X_test.iloc[0].shape"
   ]
  },
  {
   "cell_type": "code",
   "execution_count": 81,
   "id": "615047fa",
   "metadata": {},
   "outputs": [
    {
     "data": {
      "text/plain": [
       "0    [90, 90, 99, 1, 0, 1, 1, 1, 0, 1, 0, 1, 0, 0, ...\n",
       "dtype: object"
      ]
     },
     "execution_count": 81,
     "metadata": {},
     "output_type": "execute_result"
    }
   ],
   "source": [
    "df=pd.Series(df)\n",
    "df"
   ]
  },
  {
   "cell_type": "code",
   "execution_count": 88,
   "id": "48c52284",
   "metadata": {},
   "outputs": [
    {
     "ename": "ValueError",
     "evalue": "Shape of passed values is (20, 1), indices imply (20, 20)",
     "output_type": "error",
     "traceback": [
      "\u001b[1;31m---------------------------------------------------------------------------\u001b[0m",
      "\u001b[1;31mValueError\u001b[0m                                Traceback (most recent call last)",
      "Cell \u001b[1;32mIn[88], line 3\u001b[0m\n\u001b[0;32m      1\u001b[0m \u001b[38;5;66;03m#df=pd.Series(df)\u001b[39;00m\n\u001b[1;32m----> 3\u001b[0m df \u001b[38;5;241m=\u001b[39m \u001b[43mpd\u001b[49m\u001b[38;5;241;43m.\u001b[39;49m\u001b[43mDataFrame\u001b[49m\u001b[43m(\u001b[49m\u001b[43mdf\u001b[49m\u001b[43m,\u001b[49m\u001b[43m \u001b[49m\u001b[43mcolumns\u001b[49m\u001b[38;5;241;43m=\u001b[39;49m\u001b[43m[\u001b[49m\u001b[38;5;124;43m'\u001b[39;49m\u001b[38;5;124;43mage\u001b[39;49m\u001b[38;5;124;43m'\u001b[39;49m\u001b[43m,\u001b[49m\u001b[43m \u001b[49m\u001b[38;5;124;43m'\u001b[39;49m\u001b[38;5;124;43mhypertension\u001b[39;49m\u001b[38;5;124;43m'\u001b[39;49m\u001b[43m,\u001b[49m\u001b[43m \u001b[49m\u001b[38;5;124;43m'\u001b[39;49m\u001b[38;5;124;43mheart_disease\u001b[39;49m\u001b[38;5;124;43m'\u001b[39;49m\u001b[43m,\u001b[49m\u001b[43m \u001b[49m\u001b[38;5;124;43m'\u001b[39;49m\u001b[38;5;124;43mavg_glucose_level\u001b[39;49m\u001b[38;5;124;43m'\u001b[39;49m\u001b[43m,\u001b[49m\u001b[43m \u001b[49m\u001b[38;5;124;43m'\u001b[39;49m\u001b[38;5;124;43mbmi\u001b[39;49m\u001b[38;5;124;43m'\u001b[39;49m\u001b[43m,\u001b[49m\u001b[43m \u001b[49m\u001b[38;5;124;43m'\u001b[39;49m\u001b[38;5;124;43mgender_Female\u001b[39;49m\u001b[38;5;124;43m'\u001b[39;49m\u001b[43m,\u001b[49m\u001b[43m \u001b[49m\u001b[38;5;124;43m'\u001b[39;49m\u001b[38;5;124;43mgender_Male\u001b[39;49m\u001b[38;5;124;43m'\u001b[39;49m\u001b[43m,\u001b[49m\u001b[43m \u001b[49m\u001b[38;5;124;43m'\u001b[39;49m\u001b[38;5;124;43mever_married_No\u001b[39;49m\u001b[38;5;124;43m'\u001b[39;49m\u001b[43m,\u001b[49m\u001b[43m \u001b[49m\u001b[38;5;124;43m'\u001b[39;49m\u001b[38;5;124;43mever_married_Yes\u001b[39;49m\u001b[38;5;124;43m'\u001b[39;49m\u001b[43m,\u001b[49m\u001b[43m \u001b[49m\u001b[38;5;124;43m'\u001b[39;49m\u001b[38;5;124;43mwork_type_Govt_job\u001b[39;49m\u001b[38;5;124;43m'\u001b[39;49m\u001b[43m,\u001b[49m\u001b[43m \u001b[49m\u001b[38;5;124;43m'\u001b[39;49m\u001b[38;5;124;43mwork_type_Never_worked\u001b[39;49m\u001b[38;5;124;43m'\u001b[39;49m\u001b[43m,\u001b[49m\u001b[43m \u001b[49m\u001b[38;5;124;43m'\u001b[39;49m\u001b[38;5;124;43mwork_type_Private\u001b[39;49m\u001b[38;5;124;43m'\u001b[39;49m\u001b[43m,\u001b[49m\u001b[43m \u001b[49m\u001b[38;5;124;43m'\u001b[39;49m\u001b[38;5;124;43mwork_type_Self_employed\u001b[39;49m\u001b[38;5;124;43m'\u001b[39;49m\u001b[43m,\u001b[49m\u001b[43m \u001b[49m\u001b[38;5;124;43m'\u001b[39;49m\u001b[38;5;124;43mwork_type_children\u001b[39;49m\u001b[38;5;124;43m'\u001b[39;49m\u001b[43m,\u001b[49m\u001b[43m \u001b[49m\u001b[38;5;124;43m'\u001b[39;49m\u001b[38;5;124;43mResidence_type_Rural\u001b[39;49m\u001b[38;5;124;43m'\u001b[39;49m\u001b[43m,\u001b[49m\u001b[43m \u001b[49m\u001b[38;5;124;43m'\u001b[39;49m\u001b[38;5;124;43mResidence_type_Urban\u001b[39;49m\u001b[38;5;124;43m'\u001b[39;49m\u001b[43m,\u001b[49m\u001b[43m \u001b[49m\u001b[38;5;124;43m'\u001b[39;49m\u001b[38;5;124;43msmoking_status_Unknown\u001b[39;49m\u001b[38;5;124;43m'\u001b[39;49m\u001b[43m,\u001b[49m\u001b[43m \u001b[49m\u001b[38;5;124;43m'\u001b[39;49m\u001b[38;5;124;43msmoking_status_formerly_smoked\u001b[39;49m\u001b[38;5;124;43m'\u001b[39;49m\u001b[43m,\u001b[49m\u001b[43m \u001b[49m\u001b[38;5;124;43m'\u001b[39;49m\u001b[38;5;124;43msmoking_status_never_smoked\u001b[39;49m\u001b[38;5;124;43m'\u001b[39;49m\u001b[43m,\u001b[49m\u001b[43m \u001b[49m\u001b[38;5;124;43m'\u001b[39;49m\u001b[38;5;124;43msmoking_status_smokes\u001b[39;49m\u001b[38;5;124;43m'\u001b[39;49m\u001b[43m]\u001b[49m\u001b[43m)\u001b[49m\n\u001b[0;32m      5\u001b[0m y_pred1 \u001b[38;5;241m=\u001b[39m model\u001b[38;5;241m.\u001b[39mpredict(df)\n\u001b[0;32m      6\u001b[0m y_pred1\n",
      "File \u001b[1;32mC:\\ProgramData\\Anaconda3\\lib\\site-packages\\pandas\\core\\frame.py:737\u001b[0m, in \u001b[0;36mDataFrame.__init__\u001b[1;34m(self, data, index, columns, dtype, copy)\u001b[0m\n\u001b[0;32m    729\u001b[0m         mgr \u001b[38;5;241m=\u001b[39m arrays_to_mgr(\n\u001b[0;32m    730\u001b[0m             arrays,\n\u001b[0;32m    731\u001b[0m             columns,\n\u001b[1;32m   (...)\u001b[0m\n\u001b[0;32m    734\u001b[0m             typ\u001b[38;5;241m=\u001b[39mmanager,\n\u001b[0;32m    735\u001b[0m         )\n\u001b[0;32m    736\u001b[0m     \u001b[38;5;28;01melse\u001b[39;00m:\n\u001b[1;32m--> 737\u001b[0m         mgr \u001b[38;5;241m=\u001b[39m \u001b[43mndarray_to_mgr\u001b[49m\u001b[43m(\u001b[49m\n\u001b[0;32m    738\u001b[0m \u001b[43m            \u001b[49m\u001b[43mdata\u001b[49m\u001b[43m,\u001b[49m\n\u001b[0;32m    739\u001b[0m \u001b[43m            \u001b[49m\u001b[43mindex\u001b[49m\u001b[43m,\u001b[49m\n\u001b[0;32m    740\u001b[0m \u001b[43m            \u001b[49m\u001b[43mcolumns\u001b[49m\u001b[43m,\u001b[49m\n\u001b[0;32m    741\u001b[0m \u001b[43m            \u001b[49m\u001b[43mdtype\u001b[49m\u001b[38;5;241;43m=\u001b[39;49m\u001b[43mdtype\u001b[49m\u001b[43m,\u001b[49m\n\u001b[0;32m    742\u001b[0m \u001b[43m            \u001b[49m\u001b[43mcopy\u001b[49m\u001b[38;5;241;43m=\u001b[39;49m\u001b[43mcopy\u001b[49m\u001b[43m,\u001b[49m\n\u001b[0;32m    743\u001b[0m \u001b[43m            \u001b[49m\u001b[43mtyp\u001b[49m\u001b[38;5;241;43m=\u001b[39;49m\u001b[43mmanager\u001b[49m\u001b[43m,\u001b[49m\n\u001b[0;32m    744\u001b[0m \u001b[43m        \u001b[49m\u001b[43m)\u001b[49m\n\u001b[0;32m    745\u001b[0m \u001b[38;5;28;01melse\u001b[39;00m:\n\u001b[0;32m    746\u001b[0m     mgr \u001b[38;5;241m=\u001b[39m dict_to_mgr(\n\u001b[0;32m    747\u001b[0m         {},\n\u001b[0;32m    748\u001b[0m         index,\n\u001b[1;32m   (...)\u001b[0m\n\u001b[0;32m    751\u001b[0m         typ\u001b[38;5;241m=\u001b[39mmanager,\n\u001b[0;32m    752\u001b[0m     )\n",
      "File \u001b[1;32mC:\\ProgramData\\Anaconda3\\lib\\site-packages\\pandas\\core\\internals\\construction.py:351\u001b[0m, in \u001b[0;36mndarray_to_mgr\u001b[1;34m(values, index, columns, dtype, copy, typ)\u001b[0m\n\u001b[0;32m    346\u001b[0m \u001b[38;5;66;03m# _prep_ndarray ensures that values.ndim == 2 at this point\u001b[39;00m\n\u001b[0;32m    347\u001b[0m index, columns \u001b[38;5;241m=\u001b[39m _get_axes(\n\u001b[0;32m    348\u001b[0m     values\u001b[38;5;241m.\u001b[39mshape[\u001b[38;5;241m0\u001b[39m], values\u001b[38;5;241m.\u001b[39mshape[\u001b[38;5;241m1\u001b[39m], index\u001b[38;5;241m=\u001b[39mindex, columns\u001b[38;5;241m=\u001b[39mcolumns\n\u001b[0;32m    349\u001b[0m )\n\u001b[1;32m--> 351\u001b[0m \u001b[43m_check_values_indices_shape_match\u001b[49m\u001b[43m(\u001b[49m\u001b[43mvalues\u001b[49m\u001b[43m,\u001b[49m\u001b[43m \u001b[49m\u001b[43mindex\u001b[49m\u001b[43m,\u001b[49m\u001b[43m \u001b[49m\u001b[43mcolumns\u001b[49m\u001b[43m)\u001b[49m\n\u001b[0;32m    353\u001b[0m \u001b[38;5;28;01mif\u001b[39;00m typ \u001b[38;5;241m==\u001b[39m \u001b[38;5;124m\"\u001b[39m\u001b[38;5;124marray\u001b[39m\u001b[38;5;124m\"\u001b[39m:\n\u001b[0;32m    355\u001b[0m     \u001b[38;5;28;01mif\u001b[39;00m \u001b[38;5;28missubclass\u001b[39m(values\u001b[38;5;241m.\u001b[39mdtype\u001b[38;5;241m.\u001b[39mtype, \u001b[38;5;28mstr\u001b[39m):\n",
      "File \u001b[1;32mC:\\ProgramData\\Anaconda3\\lib\\site-packages\\pandas\\core\\internals\\construction.py:422\u001b[0m, in \u001b[0;36m_check_values_indices_shape_match\u001b[1;34m(values, index, columns)\u001b[0m\n\u001b[0;32m    420\u001b[0m passed \u001b[38;5;241m=\u001b[39m values\u001b[38;5;241m.\u001b[39mshape\n\u001b[0;32m    421\u001b[0m implied \u001b[38;5;241m=\u001b[39m (\u001b[38;5;28mlen\u001b[39m(index), \u001b[38;5;28mlen\u001b[39m(columns))\n\u001b[1;32m--> 422\u001b[0m \u001b[38;5;28;01mraise\u001b[39;00m \u001b[38;5;167;01mValueError\u001b[39;00m(\u001b[38;5;124mf\u001b[39m\u001b[38;5;124m\"\u001b[39m\u001b[38;5;124mShape of passed values is \u001b[39m\u001b[38;5;132;01m{\u001b[39;00mpassed\u001b[38;5;132;01m}\u001b[39;00m\u001b[38;5;124m, indices imply \u001b[39m\u001b[38;5;132;01m{\u001b[39;00mimplied\u001b[38;5;132;01m}\u001b[39;00m\u001b[38;5;124m\"\u001b[39m)\n",
      "\u001b[1;31mValueError\u001b[0m: Shape of passed values is (20, 1), indices imply (20, 20)"
     ]
    }
   ],
   "source": [
    "#df=pd.Series(df)\n",
    "\n",
    "df = pd.DataFrame(df, columns=['age', 'hypertension', 'heart_disease', 'avg_glucose_level', 'bmi', 'gender_Female', 'gender_Male', 'ever_married_No', 'ever_married_Yes', 'work_type_Govt_job', 'work_type_Never_worked', 'work_type_Private', 'work_type_Self_employed', 'work_type_children', 'Residence_type_Rural', 'Residence_type_Urban', 'smoking_status_Unknown', 'smoking_status_formerly_smoked', 'smoking_status_never_smoked', 'smoking_status_smokes'])\n",
    "\n",
    "y_pred1 = model.predict(df)\n",
    "y_pred1"
   ]
  },
  {
   "cell_type": "code",
   "execution_count": 91,
   "id": "bda6d5ad",
   "metadata": {},
   "outputs": [],
   "source": [
    "df=[[90,1,1,143,90,1,1,1,0,1,0,1,0,0,0,1,0,0,0,0]]"
   ]
  },
  {
   "cell_type": "code",
   "execution_count": 97,
   "id": "9acbd249",
   "metadata": {},
   "outputs": [
    {
     "data": {
      "text/html": [
       "<div>\n",
       "<style scoped>\n",
       "    .dataframe tbody tr th:only-of-type {\n",
       "        vertical-align: middle;\n",
       "    }\n",
       "\n",
       "    .dataframe tbody tr th {\n",
       "        vertical-align: top;\n",
       "    }\n",
       "\n",
       "    .dataframe thead th {\n",
       "        text-align: right;\n",
       "    }\n",
       "</style>\n",
       "<table border=\"1\" class=\"dataframe\">\n",
       "  <thead>\n",
       "    <tr style=\"text-align: right;\">\n",
       "      <th></th>\n",
       "      <th>age</th>\n",
       "      <th>hypertension</th>\n",
       "      <th>heart_disease</th>\n",
       "      <th>avg_glucose_level</th>\n",
       "      <th>bmi</th>\n",
       "      <th>gender_Female</th>\n",
       "      <th>gender_Male</th>\n",
       "      <th>ever_married_No</th>\n",
       "      <th>ever_married_Yes</th>\n",
       "      <th>work_type_Govt_job</th>\n",
       "      <th>work_type_Never_worked</th>\n",
       "      <th>work_type_Private</th>\n",
       "      <th>work_type_Self_employed</th>\n",
       "      <th>work_type_children</th>\n",
       "      <th>Residence_type_Rural</th>\n",
       "      <th>Residence_type_Urban</th>\n",
       "      <th>smoking_status_Unknown</th>\n",
       "      <th>smoking_status_formerly_smoked</th>\n",
       "      <th>smoking_status_never_smoked</th>\n",
       "      <th>smoking_status_smokes</th>\n",
       "    </tr>\n",
       "  </thead>\n",
       "  <tbody>\n",
       "    <tr>\n",
       "      <th>0</th>\n",
       "      <td>90</td>\n",
       "      <td>1</td>\n",
       "      <td>1</td>\n",
       "      <td>143</td>\n",
       "      <td>90</td>\n",
       "      <td>1</td>\n",
       "      <td>1</td>\n",
       "      <td>1</td>\n",
       "      <td>0</td>\n",
       "      <td>1</td>\n",
       "      <td>0</td>\n",
       "      <td>1</td>\n",
       "      <td>0</td>\n",
       "      <td>0</td>\n",
       "      <td>0</td>\n",
       "      <td>1</td>\n",
       "      <td>0</td>\n",
       "      <td>0</td>\n",
       "      <td>0</td>\n",
       "      <td>0</td>\n",
       "    </tr>\n",
       "  </tbody>\n",
       "</table>\n",
       "</div>"
      ],
      "text/plain": [
       "   age  hypertension  heart_disease  avg_glucose_level  bmi  gender_Female  \\\n",
       "0   90             1              1                143   90              1   \n",
       "\n",
       "   gender_Male  ever_married_No  ever_married_Yes  work_type_Govt_job  \\\n",
       "0            1                1                 0                   1   \n",
       "\n",
       "   work_type_Never_worked  work_type_Private  work_type_Self_employed  \\\n",
       "0                       0                  1                        0   \n",
       "\n",
       "   work_type_children  Residence_type_Rural  Residence_type_Urban  \\\n",
       "0                   0                     0                     1   \n",
       "\n",
       "   smoking_status_Unknown  smoking_status_formerly_smoked  \\\n",
       "0                       0                               0   \n",
       "\n",
       "   smoking_status_never_smoked  smoking_status_smokes  \n",
       "0                            0                      0  "
      ]
     },
     "execution_count": 97,
     "metadata": {},
     "output_type": "execute_result"
    }
   ],
   "source": [
    "df = pd.DataFrame(df, columns=['age', 'hypertension', 'heart_disease', 'avg_glucose_level', 'bmi', 'gender_Female', 'gender_Male', 'ever_married_No', 'ever_married_Yes', 'work_type_Govt_job', 'work_type_Never_worked', 'work_type_Private', 'work_type_Self_employed', 'work_type_children', 'Residence_type_Rural', 'Residence_type_Urban', 'smoking_status_Unknown', 'smoking_status_formerly_smoked', 'smoking_status_never_smoked', 'smoking_status_smokes'])\n",
    "df\n"
   ]
  },
  {
   "cell_type": "code",
   "execution_count": null,
   "id": "17aa8dda",
   "metadata": {},
   "outputs": [],
   "source": []
  },
  {
   "cell_type": "code",
   "execution_count": 98,
   "id": "c4bcaf21",
   "metadata": {},
   "outputs": [],
   "source": [
    "model1=pickle.load(open('Ada_try.pkl','rb'))"
   ]
  },
  {
   "cell_type": "code",
   "execution_count": 99,
   "id": "1d5c57e9",
   "metadata": {},
   "outputs": [
    {
     "name": "stderr",
     "output_type": "stream",
     "text": [
      "C:\\ProgramData\\Anaconda3\\lib\\site-packages\\sklearn\\base.py:493: FutureWarning:\n",
      "\n",
      "The feature names should match those that were passed during fit. Starting version 1.2, an error will be raised.\n",
      "Feature names unseen at fit time:\n",
      "- smoking_status_formerly_smoked\n",
      "- smoking_status_never_smoked\n",
      "- work_type_Self_employed\n",
      "Feature names seen at fit time, yet now missing:\n",
      "- smoking_status_formerly smoked\n",
      "- smoking_status_never smoked\n",
      "- work_type_Self-employed\n",
      "\n",
      "\n"
     ]
    },
    {
     "data": {
      "text/plain": [
       "array([0], dtype=int64)"
      ]
     },
     "execution_count": 99,
     "metadata": {},
     "output_type": "execute_result"
    }
   ],
   "source": [
    "y_pred1 = model.predict(df)\n",
    "y_pred1"
   ]
  },
  {
   "cell_type": "code",
   "execution_count": 101,
   "id": "8deae38b",
   "metadata": {},
   "outputs": [
    {
     "name": "stderr",
     "output_type": "stream",
     "text": [
      "C:\\ProgramData\\Anaconda3\\lib\\site-packages\\sklearn\\base.py:493: FutureWarning:\n",
      "\n",
      "The feature names should match those that were passed during fit. Starting version 1.2, an error will be raised.\n",
      "Feature names unseen at fit time:\n",
      "- smoking_status_formerly_smoked\n",
      "- smoking_status_never_smoked\n",
      "- work_type_Self_employed\n",
      "Feature names seen at fit time, yet now missing:\n",
      "- smoking_status_formerly smoked\n",
      "- smoking_status_never smoked\n",
      "- work_type_Self-employed\n",
      "\n",
      "\n"
     ]
    }
   ],
   "source": [
    "y_pred1 = model.predict(X_test)"
   ]
  },
  {
   "cell_type": "code",
   "execution_count": 103,
   "id": "41d9e16e",
   "metadata": {},
   "outputs": [
    {
     "data": {
      "text/plain": [
       "1"
      ]
     },
     "execution_count": 103,
     "metadata": {},
     "output_type": "execute_result"
    }
   ],
   "source": [
    "y_pred1[0]"
   ]
  },
  {
   "cell_type": "code",
   "execution_count": null,
   "id": "9c95d94b",
   "metadata": {},
   "outputs": [],
   "source": [
    "age                                78.439022\n",
    "hypertension                        0.000000\n",
    "heart_disease                       0.000000\n",
    "avg_glucose_level                 142.051217\n",
    "bmi                                28.477237\n",
    "gender_Female                       0.000000\n",
    "gender_Male                         1.000000\n",
    "ever_married_No                     0.000000\n",
    "ever_married_Yes                    1.000000\n",
    "work_type_Govt_job                  0.000000\n",
    "work_type_Never_worked              0.000000\n",
    "work_type_Private                   1.000000\n",
    "work_type_Self_employed             0.000000\n",
    "work_type_children                  0.000000\n",
    "Residence_type_Rural                0.000000\n",
    "Residence_type_Urban                1.000000\n",
    "smoking_status_Unknown              0.000000\n",
    "smoking_status_formerly_smoked      0.000000\n",
    "smoking_status_never_smoked         0.000000\n",
    "smoking_status_smokes               0.000000"
   ]
  },
  {
   "cell_type": "code",
   "execution_count": 104,
   "id": "6cd43b2e",
   "metadata": {},
   "outputs": [],
   "source": [
    "df=[[78.439022,0.000000,0.000000,142.051217,28.477237,0.000000,1,0,1,0,0,1,0,0,0,1,0,0,0,0]]"
   ]
  },
  {
   "cell_type": "code",
   "execution_count": 105,
   "id": "c3575a58",
   "metadata": {},
   "outputs": [
    {
     "data": {
      "text/html": [
       "<div>\n",
       "<style scoped>\n",
       "    .dataframe tbody tr th:only-of-type {\n",
       "        vertical-align: middle;\n",
       "    }\n",
       "\n",
       "    .dataframe tbody tr th {\n",
       "        vertical-align: top;\n",
       "    }\n",
       "\n",
       "    .dataframe thead th {\n",
       "        text-align: right;\n",
       "    }\n",
       "</style>\n",
       "<table border=\"1\" class=\"dataframe\">\n",
       "  <thead>\n",
       "    <tr style=\"text-align: right;\">\n",
       "      <th></th>\n",
       "      <th>age</th>\n",
       "      <th>hypertension</th>\n",
       "      <th>heart_disease</th>\n",
       "      <th>avg_glucose_level</th>\n",
       "      <th>bmi</th>\n",
       "      <th>gender_Female</th>\n",
       "      <th>gender_Male</th>\n",
       "      <th>ever_married_No</th>\n",
       "      <th>ever_married_Yes</th>\n",
       "      <th>work_type_Govt_job</th>\n",
       "      <th>work_type_Never_worked</th>\n",
       "      <th>work_type_Private</th>\n",
       "      <th>work_type_Self_employed</th>\n",
       "      <th>work_type_children</th>\n",
       "      <th>Residence_type_Rural</th>\n",
       "      <th>Residence_type_Urban</th>\n",
       "      <th>smoking_status_Unknown</th>\n",
       "      <th>smoking_status_formerly_smoked</th>\n",
       "      <th>smoking_status_never_smoked</th>\n",
       "      <th>smoking_status_smokes</th>\n",
       "    </tr>\n",
       "  </thead>\n",
       "  <tbody>\n",
       "    <tr>\n",
       "      <th>0</th>\n",
       "      <td>78.439022</td>\n",
       "      <td>0.0</td>\n",
       "      <td>0.0</td>\n",
       "      <td>142.051217</td>\n",
       "      <td>28.477237</td>\n",
       "      <td>0.0</td>\n",
       "      <td>1</td>\n",
       "      <td>0</td>\n",
       "      <td>1</td>\n",
       "      <td>0</td>\n",
       "      <td>0</td>\n",
       "      <td>1</td>\n",
       "      <td>0</td>\n",
       "      <td>0</td>\n",
       "      <td>0</td>\n",
       "      <td>1</td>\n",
       "      <td>0</td>\n",
       "      <td>0</td>\n",
       "      <td>0</td>\n",
       "      <td>0</td>\n",
       "    </tr>\n",
       "  </tbody>\n",
       "</table>\n",
       "</div>"
      ],
      "text/plain": [
       "         age  hypertension  heart_disease  avg_glucose_level        bmi  \\\n",
       "0  78.439022           0.0            0.0         142.051217  28.477237   \n",
       "\n",
       "   gender_Female  gender_Male  ever_married_No  ever_married_Yes  \\\n",
       "0            0.0            1                0                 1   \n",
       "\n",
       "   work_type_Govt_job  work_type_Never_worked  work_type_Private  \\\n",
       "0                   0                       0                  1   \n",
       "\n",
       "   work_type_Self_employed  work_type_children  Residence_type_Rural  \\\n",
       "0                        0                   0                     0   \n",
       "\n",
       "   Residence_type_Urban  smoking_status_Unknown  \\\n",
       "0                     1                       0   \n",
       "\n",
       "   smoking_status_formerly_smoked  smoking_status_never_smoked  \\\n",
       "0                               0                            0   \n",
       "\n",
       "   smoking_status_smokes  \n",
       "0                      0  "
      ]
     },
     "execution_count": 105,
     "metadata": {},
     "output_type": "execute_result"
    }
   ],
   "source": [
    "\n",
    "df = pd.DataFrame(df, columns=['age', 'hypertension', 'heart_disease', 'avg_glucose_level', 'bmi', 'gender_Female', 'gender_Male', 'ever_married_No', 'ever_married_Yes', 'work_type_Govt_job', 'work_type_Never_worked', 'work_type_Private', 'work_type_Self_employed', 'work_type_children', 'Residence_type_Rural', 'Residence_type_Urban', 'smoking_status_Unknown', 'smoking_status_formerly_smoked', 'smoking_status_never_smoked', 'smoking_status_smokes'])\n",
    "df\n"
   ]
  },
  {
   "cell_type": "code",
   "execution_count": 106,
   "id": "563208c5",
   "metadata": {},
   "outputs": [
    {
     "name": "stderr",
     "output_type": "stream",
     "text": [
      "C:\\ProgramData\\Anaconda3\\lib\\site-packages\\sklearn\\base.py:493: FutureWarning:\n",
      "\n",
      "The feature names should match those that were passed during fit. Starting version 1.2, an error will be raised.\n",
      "Feature names unseen at fit time:\n",
      "- smoking_status_formerly_smoked\n",
      "- smoking_status_never_smoked\n",
      "- work_type_Self_employed\n",
      "Feature names seen at fit time, yet now missing:\n",
      "- smoking_status_formerly smoked\n",
      "- smoking_status_never smoked\n",
      "- work_type_Self-employed\n",
      "\n",
      "\n"
     ]
    },
    {
     "data": {
      "text/plain": [
       "array([1], dtype=int64)"
      ]
     },
     "execution_count": 106,
     "metadata": {},
     "output_type": "execute_result"
    }
   ],
   "source": [
    "y_pred1 = model.predict(df)\n",
    "y_pred1"
   ]
  },
  {
   "cell_type": "code",
   "execution_count": null,
   "id": "14f478c8",
   "metadata": {},
   "outputs": [],
   "source": []
  },
  {
   "cell_type": "code",
   "execution_count": null,
   "id": "d0d1f205",
   "metadata": {},
   "outputs": [],
   "source": []
  },
  {
   "cell_type": "code",
   "execution_count": 37,
   "id": "52bc422f",
   "metadata": {},
   "outputs": [],
   "source": [
    "model2=pickle.load(open('cat_try.pkl','rb'))"
   ]
  },
  {
   "cell_type": "code",
   "execution_count": 38,
   "id": "c57184a8",
   "metadata": {},
   "outputs": [
    {
     "data": {
      "text/html": [
       "<div>\n",
       "<style scoped>\n",
       "    .dataframe tbody tr th:only-of-type {\n",
       "        vertical-align: middle;\n",
       "    }\n",
       "\n",
       "    .dataframe tbody tr th {\n",
       "        vertical-align: top;\n",
       "    }\n",
       "\n",
       "    .dataframe thead th {\n",
       "        text-align: right;\n",
       "    }\n",
       "</style>\n",
       "<table border=\"1\" class=\"dataframe\">\n",
       "  <thead>\n",
       "    <tr style=\"text-align: right;\">\n",
       "      <th></th>\n",
       "      <th>age</th>\n",
       "      <th>hypertension</th>\n",
       "      <th>heart_disease</th>\n",
       "      <th>avg_glucose_level</th>\n",
       "      <th>bmi</th>\n",
       "      <th>gender_Female</th>\n",
       "      <th>gender_Male</th>\n",
       "      <th>ever_married_No</th>\n",
       "      <th>ever_married_Yes</th>\n",
       "      <th>work_type_Govt_job</th>\n",
       "      <th>work_type_Never_worked</th>\n",
       "      <th>work_type_Private</th>\n",
       "      <th>work_type_Self_employed</th>\n",
       "      <th>work_type_children</th>\n",
       "      <th>Residence_type_Rural</th>\n",
       "      <th>Residence_type_Urban</th>\n",
       "      <th>smoking_status_Unknown</th>\n",
       "      <th>smoking_status_formerly_smoked</th>\n",
       "      <th>smoking_status_never_smoked</th>\n",
       "      <th>smoking_status_smokes</th>\n",
       "    </tr>\n",
       "  </thead>\n",
       "  <tbody>\n",
       "    <tr>\n",
       "      <th>0</th>\n",
       "      <td>78.439022</td>\n",
       "      <td>0.0</td>\n",
       "      <td>0.0</td>\n",
       "      <td>142.051217</td>\n",
       "      <td>28.477237</td>\n",
       "      <td>0.0</td>\n",
       "      <td>1</td>\n",
       "      <td>0</td>\n",
       "      <td>1</td>\n",
       "      <td>0</td>\n",
       "      <td>0</td>\n",
       "      <td>1</td>\n",
       "      <td>0</td>\n",
       "      <td>0</td>\n",
       "      <td>0</td>\n",
       "      <td>1</td>\n",
       "      <td>0</td>\n",
       "      <td>0</td>\n",
       "      <td>0</td>\n",
       "      <td>0</td>\n",
       "    </tr>\n",
       "  </tbody>\n",
       "</table>\n",
       "</div>"
      ],
      "text/plain": [
       "         age  hypertension  heart_disease  avg_glucose_level        bmi  \\\n",
       "0  78.439022           0.0            0.0         142.051217  28.477237   \n",
       "\n",
       "   gender_Female  gender_Male  ever_married_No  ever_married_Yes  \\\n",
       "0            0.0            1                0                 1   \n",
       "\n",
       "   work_type_Govt_job  work_type_Never_worked  work_type_Private  \\\n",
       "0                   0                       0                  1   \n",
       "\n",
       "   work_type_Self_employed  work_type_children  Residence_type_Rural  \\\n",
       "0                        0                   0                     0   \n",
       "\n",
       "   Residence_type_Urban  smoking_status_Unknown  \\\n",
       "0                     1                       0   \n",
       "\n",
       "   smoking_status_formerly_smoked  smoking_status_never_smoked  \\\n",
       "0                               0                            0   \n",
       "\n",
       "   smoking_status_smokes  \n",
       "0                      0  "
      ]
     },
     "execution_count": 38,
     "metadata": {},
     "output_type": "execute_result"
    }
   ],
   "source": [
    "df=[[78.439022,0.000000,0.000000,142.051217,28.477237,0.000000,1,0,1,0,0,1,0,0,0,1,0,0,0,0]]\n",
    "df = pd.DataFrame(df, columns=['age', 'hypertension', 'heart_disease', 'avg_glucose_level', 'bmi', 'gender_Female', 'gender_Male', 'ever_married_No', 'ever_married_Yes', 'work_type_Govt_job', 'work_type_Never_worked', 'work_type_Private', 'work_type_Self_employed', 'work_type_children', 'Residence_type_Rural', 'Residence_type_Urban', 'smoking_status_Unknown', 'smoking_status_formerly_smoked', 'smoking_status_never_smoked', 'smoking_status_smokes'])\n",
    "df"
   ]
  },
  {
   "cell_type": "code",
   "execution_count": 39,
   "id": "f58487ec",
   "metadata": {},
   "outputs": [
    {
     "data": {
      "text/plain": [
       "array([1], dtype=int64)"
      ]
     },
     "execution_count": 39,
     "metadata": {},
     "output_type": "execute_result"
    }
   ],
   "source": [
    "y_pred2 = model2.predict(df)\n",
    "y_pred2"
   ]
  },
  {
   "cell_type": "code",
   "execution_count": 42,
   "id": "8abc88a2",
   "metadata": {},
   "outputs": [
    {
     "data": {
      "text/plain": [
       "array([0, 1, 1, ..., 1, 0, 0], dtype=int64)"
      ]
     },
     "execution_count": 42,
     "metadata": {},
     "output_type": "execute_result"
    }
   ],
   "source": [
    "y_pred2 = model2.predict(X_test)\n",
    "y_pred2"
   ]
  },
  {
   "cell_type": "code",
   "execution_count": 43,
   "id": "6d224ca2",
   "metadata": {},
   "outputs": [
    {
     "data": {
      "text/plain": [
       "0"
      ]
     },
     "execution_count": 43,
     "metadata": {},
     "output_type": "execute_result"
    }
   ],
   "source": [
    "y_pred2[0]"
   ]
  },
  {
   "cell_type": "code",
   "execution_count": 33,
   "id": "fdcec32f",
   "metadata": {},
   "outputs": [
    {
     "name": "stdout",
     "output_type": "stream",
     "text": [
      "Random Forest\n",
      "accuracy  :  0.9441870903214606\n",
      "precision  :  0.9366437730265919\n",
      "recall  :  0.9575388829887543\n",
      "Time elapsed:  8.915091514587402\n",
      "\n",
      "\n",
      "Logistic Regression\n",
      "accuracy  :  0.860467601815191\n",
      "precision  :  0.8575493227641138\n",
      "recall  :  0.8646408803221142\n",
      "Time elapsed:  0.515087366104126\n",
      "\n",
      "\n",
      "XGB\n",
      "accuracy  :  0.9476583539291943\n",
      "precision  :  0.9380333725450998\n",
      "recall  :  0.9585674914723757\n",
      "Time elapsed:  6.667994260787964\n",
      "\n",
      "\n",
      "AdaBoost\n",
      "accuracy  :  0.9092080443713371\n",
      "precision  :  0.9063283761366441\n",
      "recall  :  0.9127614945095666\n",
      "Time elapsed:  170.01910829544067\n",
      "\n",
      "\n"
     ]
    }
   ],
   "source": [
    "### Applying CV\n",
    "\n",
    "import time\n",
    "from sklearn.model_selection import cross_val_score\n",
    "\n",
    "models = [RandomForestClassifier(), LogisticRegression(solver='liblinear'),XGBClassifier(random_state = 42, max_depth = 5, objective = 'binary:logistic', eval_metric = 'logloss'),AdaBoostClassifier(n_estimators=2000, random_state = 42)]\n",
    "names = [\"Random Forest\", \"Logistic Regression\",\"XGB\",\"AdaBoost\"]\n",
    "for model, name in zip(models, names):\n",
    "    print(name)\n",
    "    start = time.time()\n",
    "    for score in [\"accuracy\", \"precision\", \"recall\"]:\n",
    "        print(score,\" : \",cross_val_score(model, X_train, y_train ,scoring=score, cv=5).mean())\n",
    "       \n",
    "    print('Time elapsed: ',time.time() - start)\n",
    "    print('\\n')\n",
    "     "
   ]
  },
  {
   "cell_type": "code",
   "execution_count": null,
   "id": "e977c3e6",
   "metadata": {},
   "outputs": [],
   "source": []
  }
 ],
 "metadata": {
  "kernelspec": {
   "display_name": "Python 3 (ipykernel)",
   "language": "python",
   "name": "python3"
  },
  "language_info": {
   "codemirror_mode": {
    "name": "ipython",
    "version": 3
   },
   "file_extension": ".py",
   "mimetype": "text/x-python",
   "name": "python",
   "nbconvert_exporter": "python",
   "pygments_lexer": "ipython3",
   "version": "3.9.13"
  }
 },
 "nbformat": 4,
 "nbformat_minor": 5
}
